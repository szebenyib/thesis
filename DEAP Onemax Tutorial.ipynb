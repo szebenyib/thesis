{
 "metadata": {
  "name": "",
  "signature": "sha256:9368af1ed66900a53f729f8887bf29558d97e1ae28db32f141752f57e1d64dd8"
 },
 "nbformat": 3,
 "nbformat_minor": 0,
 "worksheets": [
  {
   "cells": [
    {
     "cell_type": "heading",
     "level": 1,
     "metadata": {},
     "source": [
      "Deap OneMax Tutorial using list"
     ]
    },
    {
     "cell_type": "heading",
     "level": 2,
     "metadata": {},
     "source": [
      "Imports"
     ]
    },
    {
     "cell_type": "code",
     "collapsed": false,
     "input": [
      "import random\n",
      "from deap import base, creator, tools\n",
      "import multiprocessing\n",
      "pool = multiprocessing.Pool()\n",
      "import time"
     ],
     "language": "python",
     "metadata": {},
     "outputs": [],
     "prompt_number": 21
    },
    {
     "cell_type": "heading",
     "level": 2,
     "metadata": {},
     "source": [
      "Definitions"
     ]
    },
    {
     "cell_type": "heading",
     "level": 3,
     "metadata": {},
     "source": [
      "Optimization target"
     ]
    },
    {
     "cell_type": "code",
     "collapsed": false,
     "input": [
      "creator.create(\"FitnessMax\",\n",
      "               base.Fitness,\n",
      "               weights=(1.0,))"
     ],
     "language": "python",
     "metadata": {},
     "outputs": [],
     "prompt_number": 22
    },
    {
     "cell_type": "heading",
     "level": 3,
     "metadata": {},
     "source": [
      "Genome"
     ]
    },
    {
     "cell_type": "code",
     "collapsed": false,
     "input": [
      "creator.create(\"Individual\",\n",
      "               list,\n",
      "               fitness=creator.FitnessMax)"
     ],
     "language": "python",
     "metadata": {},
     "outputs": [],
     "prompt_number": 23
    },
    {
     "cell_type": "heading",
     "level": 3,
     "metadata": {},
     "source": [
      "Toolbox"
     ]
    },
    {
     "cell_type": "code",
     "collapsed": false,
     "input": [
      "toolbox = base.Toolbox()\n",
      "toolbox.register(\"attr_bool\",\n",
      "                 random.randint,\n",
      "                 0, 1)\n",
      "toolbox.register(\"individual\",\n",
      "                 tools.initRepeat,\n",
      "                 creator.Individual,\n",
      "                 toolbox.attr_bool,\n",
      "                 100)\n",
      "toolbox.register(\"population\",\n",
      "                 tools.initRepeat,\n",
      "                 list,\n",
      "                 toolbox.individual)\n",
      "toolbox.register(\"map\", pool.map)"
     ],
     "language": "python",
     "metadata": {},
     "outputs": [],
     "prompt_number": 24
    },
    {
     "cell_type": "heading",
     "level": 3,
     "metadata": {},
     "source": [
      "Statistics"
     ]
    },
    {
     "cell_type": "code",
     "collapsed": false,
     "input": [
      "stats = tools.Statistics(key = lambda ind: ind.fitness.values)\n",
      "stats.register(\"avg\", numpy.mean)\n",
      "stats.register(\"std\", numpy.std)\n",
      "stats.register(\"min\", numpy.min)\n",
      "stats.register(\"max\", numpy.max)\n",
      "logbook = tools.Logbook()\n",
      "logbook.header = (\"gen\", \"avg\", \"std\", \"min\", \"max\")"
     ],
     "language": "python",
     "metadata": {},
     "outputs": [],
     "prompt_number": 25
    },
    {
     "cell_type": "heading",
     "level": 3,
     "metadata": {},
     "source": [
      "Evaluation function"
     ]
    },
    {
     "cell_type": "code",
     "collapsed": false,
     "input": [
      "def evalOneMax(individual):\n",
      "    return sum(individual),"
     ],
     "language": "python",
     "metadata": {},
     "outputs": [],
     "prompt_number": 26
    },
    {
     "cell_type": "heading",
     "level": 3,
     "metadata": {},
     "source": [
      "Genetic Operators and their default arguments"
     ]
    },
    {
     "cell_type": "code",
     "collapsed": false,
     "input": [
      "toolbox.register(\"evaluate\", evalOneMax)\n",
      "toolbox.register(\"mate\", tools.cxTwoPoint)\n",
      "toolbox.register(\"mutate\", tools.mutFlipBit, indpb=0.05)\n",
      "toolbox.register(\"select\", tools.selTournament, tournsize=3)"
     ],
     "language": "python",
     "metadata": {},
     "outputs": [],
     "prompt_number": 27
    },
    {
     "cell_type": "heading",
     "level": 2,
     "metadata": {},
     "source": [
      "Evolution"
     ]
    },
    {
     "cell_type": "code",
     "collapsed": false,
     "input": [
      "def main():\n",
      "    #Settings\n",
      "    random.seed(64)\n",
      "    CXPB, MUTPB, NGEN = 0.5, 0.2, 40\n",
      "    #Create population\n",
      "    pop = toolbox.population(n=300)\n",
      "    #Evaluate the created population\n",
      "    fitnesses = list(map(toolbox.evaluate, pop))\n",
      "    for ind, fit in zip(pop, fitnesses):\n",
      "        ind.fitness.values=fit\n",
      "    #Statistics\n",
      "    start = time.time()\n",
      "    \n",
      "    #Evolution\n",
      "    for g in range(NGEN):\n",
      "        #Select the next generation individuals\n",
      "        offspring = toolbox.select(pop, len(pop))\n",
      "        offspring = list(map(toolbox.clone, offspring))\n",
      "        #Apply crossover\n",
      "        for child1, child2 in zip(offspring[::2], offspring[1::2]):\n",
      "            if random.random() < CXPB:\n",
      "                toolbox.mate(child1, child2)\n",
      "                del child1.fitness.values\n",
      "                del child2.fitness.values\n",
      "        #Apply mutation\n",
      "        for child in offspring:\n",
      "            if random.random() < MUTPB:\n",
      "                toolbox.mutate(child)\n",
      "                del child.fitness.values\n",
      "        #Evaluation\n",
      "        invalid_ind = [\n",
      "            ind for ind in offspring if not ind.fitness.valid]\n",
      "        fitnesses = map(toolbox.evaluate, invalid_ind)\n",
      "        for ind, fit in zip(invalid_ind, fitnesses):\n",
      "            ind.fitness.values = fit\n",
      "        #Replace old population\n",
      "        pop[:] = offspring\n",
      "        #Statistics\n",
      "        fits = [ind.fitness.values[0] for ind in pop]\n",
      "        record = stats.compile(pop)\n",
      "        logbook.record(gen=g, **record)\n",
      "    \n",
      "    #Info on the evolution\n",
      "    end = time.time()\n",
      "    print(\"Evolution execution time: %3.3f\" % (end-start))\n",
      "    print(logbook)\n",
      "    best_ind = tools.selBest(pop, 1)[0]\n",
      "    print(\"Best individual is %s, %s\" % (best_ind,\n",
      "                                         best_ind.fitness.values))    \n",
      "    "
     ],
     "language": "python",
     "metadata": {},
     "outputs": [],
     "prompt_number": 28
    },
    {
     "cell_type": "code",
     "collapsed": false,
     "input": [
      "if __name__ == \"__main__\":\n",
      "    main()"
     ],
     "language": "python",
     "metadata": {},
     "outputs": [
      {
       "output_type": "stream",
       "stream": "stdout",
       "text": [
        "Evolution execution time: 3.141\n",
        "gen\tavg    \tstd    \tmin\tmax\n",
        "0  \t54.7433\t4.4629 \t40 \t65 \n",
        "1  \t58.48  \t3.98534\t44 \t70 \n",
        "2  \t61.6067\t2.92779\t54 \t68 \n",
        "3  \t63.82  \t2.74365\t57 \t73 \n",
        "4  \t65.67  \t2.57962\t54 \t73 \n",
        "5  \t67.5467\t2.57834\t60 \t76 \n",
        "6  \t69.0667\t2.50511\t63 \t77 \n",
        "7  \t70.78  \t2.39964\t62 \t78 \n",
        "8  \t72.3133\t2.57717\t63 \t79 \n",
        "9  \t74     \t2.62552\t67 \t81 \n",
        "10 \t75.9167\t2.52911\t67 \t83 \n",
        "11 \t77.5967\t2.40291\t67 \t84 \n",
        "12 \t78.97  \t2.2969 \t72 \t85 \n",
        "13 \t80.13  \t2.3565 \t70 \t86 \n",
        "14 \t81.3967\t2.03781\t74 \t86 \n",
        "15 \t82.33  \t2.18505\t74 \t87 \n",
        "16 \t83.4033\t2.22576\t74 \t88 \n",
        "17 \t84.14  \t2.34955\t72 \t88 \n",
        "18 \t85.1   \t2.2053 \t76 \t89 \n",
        "19 \t85.77  \t2.15649\t75 \t90 \n",
        "20 \t86.4833\t2.25899\t77 \t91 \n",
        "21 \t87.24  \t2.06133\t80 \t91 \n",
        "22 \t87.95  \t1.95299\t80 \t92 \n",
        "23 \t88.42  \t2.22492\t79 \t93 \n",
        "24 \t89.2833\t1.8929 \t82 \t93 \n",
        "25 \t89.7667\t2.26102\t78 \t94 \n",
        "26 \t90.4633\t2.21404\t82 \t94 \n",
        "27 \t90.8733\t2.41329\t81 \t95 \n",
        "28 \t91.7167\t2.18702\t83 \t95 \n",
        "29 \t92.3467\t2.21656\t83 \t98 \n",
        "30 \t92.9533\t2.09869\t84 \t98 \n",
        "31 \t93.5267\t2.28239\t83 \t97 \n",
        "32 \t94.28  \t2.16985\t86 \t98 \n",
        "33 \t94.9133\t2.22392\t85 \t98 \n",
        "34 \t95.6333\t2.13359\t86 \t99 \n",
        "35 \t96.2967\t2.23651\t86 \t99 \n",
        "36 \t96.5867\t2.41436\t87 \t100\n",
        "37 \t97.3667\t2.16153\t84 \t100\n",
        "38 \t97.7467\t2.32719\t89 \t100\n",
        "39 \t98.1833\t2.33589\t88 \t100\n",
        "Best individual is [1, 1, 1, 1, 1, 1, 1, 1, 1, 1, 1, 1, 1, 1, 1, 1, 1, 1, 1, 1, 1, 1, 1, 1, 1, 1, 1, 1, 1, 1, 1, 1, 1, 1, 1, 1, 1, 1, 1, 1, 1, 1, 1, 1, 1, 1, 1, 1, 1, 1, 1, 1, 1, 1, 1, 1, 1, 1, 1, 1, 1, 1, 1, 1, 1, 1, 1, 1, 1, 1, 1, 1, 1, 1, 1, 1, 1, 1, 1, 1, 1, 1, 1, 1, 1, 1, 1, 1, 1, 1, 1, 1, 1, 1, 1, 1, 1, 1, 1, 1], (100.0,)\n"
       ]
      }
     ],
     "prompt_number": 29
    },
    {
     "cell_type": "heading",
     "level": 2,
     "metadata": {},
     "source": [
      "Plotting"
     ]
    },
    {
     "cell_type": "code",
     "collapsed": false,
     "input": [
      "generations = np.array(logbook.select(\"gen\"))\n",
      "#print generations.dtype, generations.shape\n",
      "#print logbook.select(\"min\")\n",
      "#print len(logbook.select(\"min\"))\n",
      "#print np.array(logbook.select(\"min\"))\n",
      "#print np.array(logbook.select(\"min\")).dtype\n",
      "#print np.array(logbook.select(\"min\")).shape\n",
      "minimums = np.array(logbook.select(\"min\"))\n",
      "maximums = np.array(logbook.select(\"max\"))\n",
      "averages = np.array(logbook.select(\"avg\"))\n",
      "yerr_min = averages-minimums\n",
      "yerr_max = maximums-averages\n",
      "\n",
      "plot(generations, minimums, color=\"blue\", linewidth=1.2,\n",
      "     label=\"Raw minimum\")\n",
      "plot(generations, maximums, color=\"red\", linewidth=1.2,\n",
      "     label=\"Raw maximum\")\n",
      "#fill_between(generations, minimums, maximums, color=\"green\",\n",
      "#             alpha=0.1)\n",
      "errorbar(generations, averages, [yerr_min, yerr_max],\n",
      "         color=\"green\", alpha=0.5, linewidth=1.2,\n",
      "         label=\"Average\")\n",
      "\n",
      "xlim(0, len(generations) - 1)\n",
      "ylim(min(minimums)-5, max(maximums)+5)\n",
      "legend(loc='lower right')\n",
      "plt.xlabel('Generations')\n",
      "plt.ylabel('Score')\n",
      "plt.title('Raw score evolution over time')\n",
      "show()"
     ],
     "language": "python",
     "metadata": {},
     "outputs": [
      {
       "metadata": {},
       "output_type": "display_data",
       "png": "[encoded data removed]",
       "text": [
        "<matplotlib.figure.Figure at 0x7fe3a92f3810>"
       ]
      }
     ],
     "prompt_number": 30
    },
    {
     "cell_type": "code",
     "collapsed": false,
     "input": [
      "minimums"
     ],
     "language": "python",
     "metadata": {},
     "outputs": [
      {
       "metadata": {},
       "output_type": "pyout",
       "prompt_number": 31,
       "text": [
        "array([ 40.,  44.,  54.,  57.,  54.,  60.,  63.,  62.,  63.,  67.,  67.,\n",
        "        67.,  72.,  70.,  74.,  74.,  74.,  72.,  76.,  75.,  77.,  80.,\n",
        "        80.,  79.,  82.,  78.,  82.,  81.,  83.,  83.,  84.,  83.,  86.,\n",
        "        85.,  86.,  86.,  87.,  84.,  89.,  88.])"
       ]
      }
     ],
     "prompt_number": 31
    },
    {
     "cell_type": "code",
     "collapsed": false,
     "input": [
      "print logbook.select(\"min\")"
     ],
     "language": "python",
     "metadata": {},
     "outputs": [
      {
       "output_type": "stream",
       "stream": "stdout",
       "text": [
        "[40.0, 44.0, 54.0, 57.0, 54.0, 60.0, 63.0, 62.0, 63.0, 67.0, 67.0, 67.0, 72.0, 70.0, 74.0, 74.0, 74.0, 72.0, 76.0, 75.0, 77.0, 80.0, 80.0, 79.0, 82.0, 78.0, 82.0, 81.0, 83.0, 83.0, 84.0, 83.0, 86.0, 85.0, 86.0, 86.0, 87.0, 84.0, 89.0, 88.0]\n"
       ]
      }
     ],
     "prompt_number": 32
    },
    {
     "cell_type": "code",
     "collapsed": false,
     "input": [
      "minimums.dtype"
     ],
     "language": "python",
     "metadata": {},
     "outputs": [
      {
       "metadata": {},
       "output_type": "pyout",
       "prompt_number": 33,
       "text": [
        "dtype('float64')"
       ]
      }
     ],
     "prompt_number": 33
    },
    {
     "cell_type": "code",
     "collapsed": false,
     "input": [
      "minimums.view"
     ],
     "language": "python",
     "metadata": {},
     "outputs": [
      {
       "metadata": {},
       "output_type": "pyout",
       "prompt_number": 34,
       "text": [
        "<function view>"
       ]
      }
     ],
     "prompt_number": 34
    },
    {
     "cell_type": "code",
     "collapsed": false,
     "input": [],
     "language": "python",
     "metadata": {},
     "outputs": [],
     "prompt_number": 34
    }
   ],
   "metadata": {}
  }
 ]
}