{
 "metadata": {
  "name": "",
  "signature": "sha256:fa16ecaaebfafb1d3b455ecaa435d1df213123fd84d47dd0415384c0574afea3"
 },
 "nbformat": 3,
 "nbformat_minor": 0,
 "worksheets": [
  {
   "cells": [
    {
     "cell_type": "code",
     "collapsed": false,
     "input": [
      "%%html\n",
      "<h1 id=\"tocheading\">DEAP GP Tutorial</h1>\n",
      "<div id=\"toc\"></div>\n",
      "<script type=\"text/javascript\" src=\"ipython_notebook_toc.js\">\n",
      "<!--Use https://raw.githubusercontent.com/kmahelona/ipython_notebook_goodies/master/ipython_notebook_toc.js -->\n",
      "    "
     ],
     "language": "python",
     "metadata": {},
     "outputs": [
      {
       "html": [
        "<h1 id=\"tocheading\">DEAP GP Tutorial</h1>\n",
        "<div id=\"toc\"></div>\n",
        "<script type=\"text/javascript\" src=\"ipython_notebook_toc.js\">\n",
        "<!--Use https://raw.githubusercontent.com/kmahelona/ipython_notebook_goodies/master/ipython_notebook_toc.js -->\n",
        "    "
       ],
       "metadata": {},
       "output_type": "display_data",
       "text": [
        "<IPython.core.display.HTML at 0x3b611d0>"
       ]
      }
     ],
     "prompt_number": 1
    },
    {
     "cell_type": "heading",
     "level": 1,
     "metadata": {},
     "source": [
      "Imports"
     ]
    },
    {
     "cell_type": "code",
     "collapsed": false,
     "input": [
      "import math\n",
      "import operator\n",
      "import random\n",
      "import time\n",
      "import os\n",
      "\n",
      "#DEAP\n",
      "from deap import algorithms, base, creator, gp, tools\n",
      "\n",
      "#Multiprocessing\n",
      "import multiprocessing\n",
      "pool = multiprocessing.Pool()\n",
      "\n",
      "#Tree plotting\n",
      "import networkx, pydot\n",
      "from IPython.display import Image #needed to render in notebook\n",
      "\n",
      "#Checkpointing, saving\n",
      "import pickle\n",
      "\n",
      "#Sympy\n",
      "from sympy.parsing.sympy_parser import parse_expr\n",
      "from sympy import init_printing, cancel, lambdify, Symbol\n",
      "from eqn import parse_equation"
     ],
     "language": "python",
     "metadata": {},
     "outputs": [],
     "prompt_number": 2
    },
    {
     "cell_type": "heading",
     "level": 1,
     "metadata": {},
     "source": [
      "Definitions"
     ]
    },
    {
     "cell_type": "heading",
     "level": 2,
     "metadata": {},
     "source": [
      "The primitives' set"
     ]
    },
    {
     "cell_type": "code",
     "collapsed": false,
     "input": [
      "def div(left, right):\n",
      "    \"\"\"Safe division, if an error is raised it returns 0.\"\"\"\n",
      "    try:\n",
      "        return left / right\n",
      "    except ZeroDivisionError:\n",
      "        return 0\n",
      "    \n",
      "pset = gp.PrimitiveSet(\"MAIN\", 1)\n",
      "pset.addPrimitive(operator.add, 2)\n",
      "pset.addPrimitive(operator.sub, 2)\n",
      "pset.addPrimitive(operator.mul, 2)\n",
      "pset.addPrimitive(div, 2)\n",
      "pset.addPrimitive(operator.neg, 1)\n",
      "pset.addPrimitive(math.cos, 1)\n",
      "pset.addPrimitive(math.sin, 1)\n",
      "#pset.addEphemeralConstant(\"rand101\", lambda: random.randint(-1,1))\n",
      "pset.renameArguments(ARG0='x')"
     ],
     "language": "python",
     "metadata": {},
     "outputs": [],
     "prompt_number": 3
    },
    {
     "cell_type": "heading",
     "level": 2,
     "metadata": {},
     "source": [
      "Optimization target"
     ]
    },
    {
     "cell_type": "code",
     "collapsed": false,
     "input": [
      "creator.create(\"FitnessMin\",\n",
      "               base.Fitness,\n",
      "               weights=(-1.0,))"
     ],
     "language": "python",
     "metadata": {},
     "outputs": [],
     "prompt_number": 4
    },
    {
     "cell_type": "heading",
     "level": 2,
     "metadata": {},
     "source": [
      "Genome"
     ]
    },
    {
     "cell_type": "code",
     "collapsed": false,
     "input": [
      "creator.create(\"Individual\",\n",
      "               gp.PrimitiveTree,\n",
      "               fitness=creator.FitnessMin)"
     ],
     "language": "python",
     "metadata": {},
     "outputs": [],
     "prompt_number": 5
    },
    {
     "cell_type": "heading",
     "level": 2,
     "metadata": {},
     "source": [
      "Toolbox"
     ]
    },
    {
     "cell_type": "code",
     "collapsed": false,
     "input": [
      "toolbox = base.Toolbox()\n",
      "toolbox.register(\"expr\",\n",
      "                 gp.genHalfAndHalf,\n",
      "                 pset=pset,\n",
      "                 min_=1,\n",
      "                 max_=2)\n",
      "toolbox.register(\"individual\",\n",
      "                 tools.initIterate,\n",
      "                 creator.Individual,\n",
      "                 toolbox.expr)\n",
      "toolbox.register(\"population\",\n",
      "                 tools.initRepeat,\n",
      "                 list,\n",
      "                 toolbox.individual)\n",
      "toolbox.register(\"compile\",\n",
      "                 gp.compile,\n",
      "                 pset=pset)\n",
      "#toolbox.register(\"map\", pool.map)"
     ],
     "language": "python",
     "metadata": {},
     "outputs": [],
     "prompt_number": 6
    },
    {
     "cell_type": "heading",
     "level": 2,
     "metadata": {},
     "source": [
      "Statistics"
     ]
    },
    {
     "cell_type": "code",
     "collapsed": false,
     "input": [
      "stats_fit = tools.Statistics(key=lambda ind: ind.fitness.values)\n",
      "stats_size = tools.Statistics(key=len)\n",
      "mstats = tools.MultiStatistics(fitness=stats_fit, size=stats_size)\n",
      "mstats.register(\"avg\", numpy.mean)\n",
      "mstats.register(\"std\", numpy.std)\n",
      "mstats.register(\"min\", numpy.min)\n",
      "mstats.register(\"max\", numpy.max)"
     ],
     "language": "python",
     "metadata": {},
     "outputs": [],
     "prompt_number": 7
    },
    {
     "cell_type": "heading",
     "level": 2,
     "metadata": {},
     "source": [
      "Evaluation function"
     ]
    },
    {
     "cell_type": "code",
     "collapsed": false,
     "input": [
      "def evalSymbReg(individual, points):\n",
      "    #Transform the tree expression in a callable\n",
      "    func = toolbox.compile(expr=individual)\n",
      "    #Evaluate the mse between the expression and the original function\n",
      "    sqerrors = ((func(x) - x**4 - x**3 - x**2 - x)**2 for x in points)\n",
      "    return math.fsum(sqerrors) / len(points),\n",
      "\n",
      "#Define the original equation here\n",
      "def original_equation(x):\n",
      "     return x**4 + x**3 + x**2 + x"
     ],
     "language": "python",
     "metadata": {},
     "outputs": [],
     "prompt_number": 8
    },
    {
     "cell_type": "heading",
     "level": 2,
     "metadata": {},
     "source": [
      "Genetic Operators and their default arguments"
     ]
    },
    {
     "cell_type": "code",
     "collapsed": false,
     "input": [
      "toolbox.register(\"evaluate\", evalSymbReg,\n",
      "                 points = [x/10. for x in range(-10,10)])\n",
      "toolbox.register(\"mate\", gp.cxOnePoint)\n",
      "toolbox.register(\"select\", tools.selTournament, tournsize=3)\n",
      "toolbox.register(\"expr_mut\", gp.genFull, min_=0, max_=2)\n",
      "toolbox.register(\"mutate\", gp.mutUniform, expr=toolbox.expr_mut, pset=pset)\n",
      "\n",
      "#Decorators limit overgrowth of the tree\n",
      "toolbox.decorate(\"mate\", gp.staticLimit(len, 90))\n",
      "toolbox.decorate(\"mutate\", gp.staticLimit(len, 90))"
     ],
     "language": "python",
     "metadata": {},
     "outputs": [],
     "prompt_number": 39
    },
    {
     "cell_type": "heading",
     "level": 2,
     "metadata": {},
     "source": [
      "Evolution limitation mode setup"
     ]
    },
    {
     "cell_type": "code",
     "collapsed": false,
     "input": [
      "def setup_limitation(evo):\n",
      "    #Creates a limitation function and returns it\n",
      "    if evo['NGEN'] != 0 and evo['PATIENCE'] != 0:\n",
      "        print \"Mode: Generation and improvement limitations are both active.\"\n",
      "        def conditions_are_true(generation, last_improvement_at):\n",
      "            if (generation < evo['NGEN']+1) is not True:\n",
      "                print (\"Reached generation limitation of \" +\n",
      "                       str(evo['NGEN']) + \".\")\n",
      "            if ((generation-last_improvement_at) <= evo['PATIENCE']) is not True:\n",
      "                print (\"Reached improvement limitation of \" + \n",
      "                       str(evo['PATIENCE']) + \".\")\n",
      "            return (generation < evo['NGEN']+1 \n",
      "                    and (generation-last_improvement_at) <= evo['PATIENCE'])\n",
      "    elif evo['NGEN'] != 0:\n",
      "        print \"Mode: Only generation limitation is active.\"\n",
      "        def conditions_are_true(generation, last_improvement_at):\n",
      "            if (generation < evo['NGEN']+1) is not True:\n",
      "                print (\"Reached generation limitation of \" + \n",
      "                       str(evo['NGEN']) + \".\")\n",
      "            return generation < evo['NGEN']+1\n",
      "    elif evo['PATIENCE'] != 0:\n",
      "        print \"Mode: Only improvement limitation is active.\"\n",
      "        def conditions_are_true(generation, last_improvement_at):\n",
      "            if ((generation-last_improvement_at) <= evo['PATIENCE']) is not True:\n",
      "                print (\"Reached improvement limitation of \" +\n",
      "                       str(evo['PATIENCE']) + \".\")\n",
      "            return (generation-last_improvement_at) <= evo['PATIENCE']\n",
      "    else:\n",
      "        print \"Mode: No limitation is active -> please set one.\"\n",
      "        def conditions_are_true(generation, last_improvement_at):\n",
      "            return False\n",
      "    return conditions_are_true\n"
     ],
     "language": "python",
     "metadata": {},
     "outputs": [],
     "prompt_number": 40
    },
    {
     "cell_type": "heading",
     "level": 1,
     "metadata": {},
     "source": [
      "Evolution"
     ]
    },
    {
     "cell_type": "heading",
     "level": 2,
     "metadata": {},
     "source": [
      "Core"
     ]
    },
    {
     "cell_type": "code",
     "collapsed": false,
     "input": [
      "def main(evo, verbose=False, checkpoint=None):\n",
      "    #Settings\n",
      "    random.seed(64)\n",
      "    \n",
      "    #Restoring state or starting with new population\n",
      "    if checkpoint:\n",
      "        checkpoint = pickle.load(open(checkpoint, \"r\"))\n",
      "        random.setstate(checkpoint[\"rndstate\"])\n",
      "        population = checkpoint[\"population\"]\n",
      "        start_gen = checkpoint[\"generation\"]\n",
      "        hall_of_fame = checkpoint[\"hallofffame\"]\n",
      "        logbook = checkpoint[\"logbook\"]  \n",
      "    else:\n",
      "        #Create population\n",
      "        population = toolbox.population(n=evo['N'])\n",
      "        #Evaluate the created population\n",
      "        fitnesses = list(toolbox.map(toolbox.evaluate, population))\n",
      "        for ind, fit in zip(population, fitnesses):\n",
      "            ind.fitness.values = fit\n",
      "        #Store best individuals in the hall of fame\n",
      "        hall_of_fame = tools.HallOfFame(1)\n",
      "        hall_of_fame.update(population)\n",
      "        #Statistics\n",
      "        record = mstats.compile(population)\n",
      "        logbook = tools.Logbook()\n",
      "        logbook.header = (['gen', 'nevals', 'improvement'] +\n",
      "                          (mstats.fields if mstats else []))\n",
      "        improvement = 0\n",
      "        logbook.record(gen=0,\n",
      "                       nevals=len(population),\n",
      "                       improvement=improvement,\n",
      "                       **record)\n",
      "        if verbose:\n",
      "            print logbook.stream\n",
      "\n",
      "    #Evolution\n",
      "    conditions_are_true = setup_limitation(evo)\n",
      "    generation = 1\n",
      "    last_improvement_at = 0\n",
      "    start = time.time()\n",
      "    while conditions_are_true(generation, last_improvement_at):\n",
      "        #Select the next generation individuals\n",
      "        offspring = toolbox.select(population, len(population))\n",
      "        #Apply crossover, mutation\n",
      "        offspring = algorithms.varAnd(offspring,\n",
      "                                      toolbox,\n",
      "                                      evo['CXPB'],\n",
      "                                      evo['MUTPB'])\n",
      "        #Evaluation of individuals with invalid fitness\n",
      "        ##invalid_ind = []\n",
      "        ##for ind in offspring:\n",
      "        ##    if not ind.fitness.valid:\n",
      "        ##        invalid_ind.append(ind)\n",
      "        invalid_ind = [\n",
      "            ind for ind in offspring if not ind.fitness.valid]\n",
      "        fitnesses = toolbox.map(toolbox.evaluate, invalid_ind)\n",
      "        for ind, fit in zip(invalid_ind, fitnesses):\n",
      "            ind.fitness.values = fit\n",
      "        #Update hall of fame\n",
      "        hall_of_fame.update(offspring)\n",
      "        #Replace old population\n",
      "        population[:] = offspring\n",
      "        #Statistics with improvement info\n",
      "        #fits = [ind.fitness.values[0] for ind in population]\n",
      "        record = mstats.compile(population)\n",
      "        current = record['fitness']['min']\n",
      "        previous = logbook.chapters['fitness'].select('min')[generation-1]\n",
      "        improvement = 1 - (current / previous)\n",
      "        if improvement > 0:\n",
      "            last_improvement_at = generation\n",
      "        logbook.record(gen=generation,\n",
      "                       nevals=len(invalid_ind),\n",
      "                       improvement=improvement,\n",
      "                       **record)\n",
      "        if verbose:\n",
      "            print logbook.stream\n",
      "        #Checkpointing\n",
      "        if (evo['FREQ_OF_CHECKPOINTS'] != 0 and\n",
      "            generation % evo['FREQ_OF_CHECKPOINTS'] == 0):\n",
      "            checkpoint = dict(rndstate = random.getstate(),\n",
      "                            population = population,\n",
      "                            generation = generation,\n",
      "                            hall_of_fame = hall_of_fame,\n",
      "                            logbook = logbook)\n",
      "            filename = (\"checkpoints\" + os.sep\n",
      "                + \"evo_ngen%04d_n%03d_g%04d.pkl\" % (evo['NGEN'],\n",
      "                                                    evo['N'],\n",
      "                                                    generation))\n",
      "            pickle.dump(checkpoint, open(filename, \"w\"), -1)\n",
      "        #Looping\n",
      "        generation += 1\n",
      "    \n",
      "    #Info on the evolution\n",
      "    end = time.time()\n",
      "    print(\"Evolution execution time: %3.3f\" % (end-start))\n",
      "    best_ind = tools.selBest(population, 1)[0] \n",
      "    print(\"Best individual is %s, %s\" % (best_ind,\n",
      "                                     best_ind.fitness.values))   \n",
      "    return population, logbook, hall_of_fame, best_ind"
     ],
     "language": "python",
     "metadata": {},
     "outputs": [],
     "prompt_number": 41
    },
    {
     "cell_type": "heading",
     "level": 2,
     "metadata": {},
     "source": [
      "Run with settings"
     ]
    },
    {
     "cell_type": "code",
     "collapsed": false,
     "input": [
      "#Settings of a specific run\n",
      "evo = {'CXPB': 0.3, #Crossover probability\n",
      "            'MUTPB': 0.1, #Mutation probability\n",
      "            'NGEN': 150, #Number of generations to evolve\n",
      "            'N': 400, #Number of individuals in population\n",
      "            'FREQ_OF_CHECKPOINTS': 10, #How often to save\n",
      "            'PATIENCE': 0} #How many generations to wait for improvement\n",
      "if __name__ == \"__main__\":\n",
      "    population, logbook, hall_of_fame, best_ind = main(evo,\n",
      "                                                       verbose=True,\n",
      "                                                       checkpoint=None)"
     ],
     "language": "python",
     "metadata": {},
     "outputs": [
      {
       "output_type": "stream",
       "stream": "stdout",
       "text": [
        "   \t      \t           \t                fitness                \t              size             \n",
        "   \t      \t           \t---------------------------------------\t-------------------------------\n",
        "gen\tnevals\timprovement\tavg    \tmax    \tmin     \tstd    \tavg  \tmax\tmin\tstd    \n",
        "0  \t400   \t0          \t4.36724\t1080.72\t0.200869\t53.9356\t3.745\t7  \t2  \t1.54595\n",
        "Mode: Only generation limitation is active.\n",
        "1  \t129   \t0.17572    \t0.87723\t15.0047\t0.165572\t0.802272\t3.77 \t12 \t1  \t1.69915"
       ]
      },
      {
       "output_type": "stream",
       "stream": "stdout",
       "text": [
        "\n",
        "2  \t131   \t0          \t0.694098\t4.19956\t0.165572\t0.373523\t3.72 \t10 \t1  \t1.82664\n",
        "3  \t167   \t0          \t0.7156  \t17.5706\t0.165572\t0.930664\t3.945\t12 \t1  \t2.0957 "
       ]
      },
      {
       "output_type": "stream",
       "stream": "stdout",
       "text": [
        "\n",
        "4  \t127   \t0.133298   \t0.569237\t4.4729 \t0.143501\t0.355507\t4.81 \t14 \t1  \t2.07579\n",
        "5  \t136   \t0          \t0.516472\t2.49124\t0.143501\t0.347248\t5.825\t13 \t1  \t1.81779"
       ]
      },
      {
       "output_type": "stream",
       "stream": "stdout",
       "text": [
        "\n",
        "6  \t136   \t0.0283173  \t0.464758\t15.2735\t0.139438\t0.801341\t6.25 \t14 \t1  \t1.91377\n",
        "7  \t151   \t0.155671   \t0.367529\t5.18075\t0.117731\t0.437022\t6.1575\t15 \t1  \t1.85949"
       ]
      },
      {
       "output_type": "stream",
       "stream": "stdout",
       "text": [
        "\n",
        "8  \t149   \t0.296789   \t0.288264\t2.11889\t0.0827899\t0.279985\t6.4025\t16 \t1  \t1.91324\n",
        "9  \t149   \t0          \t0.228409\t2.49124\t0.0827899\t0.234813\t7.1175\t16 \t1  \t2.06366"
       ]
      },
      {
       "output_type": "stream",
       "stream": "stdout",
       "text": [
        "\n",
        "10 \t155   \t0.693437   \t0.23988 \t2.11889\t0.0253803\t0.280705\t8.0725\t19 \t2  \t2.15343"
       ]
      },
      {
       "output_type": "stream",
       "stream": "stdout",
       "text": [
        "\n",
        "11 \t141   \t0          \t0.223625\t2.3179 \t0.0253803\t0.279971\t8.795 \t17 \t1  \t2.40166"
       ]
      },
      {
       "output_type": "stream",
       "stream": "stdout",
       "text": [
        "\n",
        "12 \t150   \t0.264973   \t0.235495\t1.96389\t0.0186552\t0.296304\t9.9725\t19 \t1  \t2.83492"
       ]
      },
      {
       "output_type": "stream",
       "stream": "stdout",
       "text": [
        "\n",
        "13 \t133   \t0          \t0.195224\t2.3179 \t0.0186552\t0.266937\t11.015\t22 \t1  \t3.07405"
       ]
      },
      {
       "output_type": "stream",
       "stream": "stdout",
       "text": [
        "\n",
        "14 \t153   \t0          \t0.235616\t3.51394\t0.0186552\t0.392692\t12.0325\t24 \t1  \t3.40902"
       ]
      },
      {
       "output_type": "stream",
       "stream": "stdout",
       "text": [
        "\n",
        "15 \t148   \t0          \t0.385821\t61.2181\t0.0186552\t3.09126 \t13.17  \t24 \t1  \t3.12107"
       ]
      },
      {
       "output_type": "stream",
       "stream": "stdout",
       "text": [
        "\n",
        "16 \t168   \t0.0740258  \t0.194828\t2.9329 \t0.0172743\t0.368327\t12.955 \t25 \t1  \t3.57812"
       ]
      },
      {
       "output_type": "stream",
       "stream": "stdout",
       "text": [
        "\n",
        "17 \t144   \t0          \t0.198003\t5.74801\t0.0172743\t0.436822\t12.925 \t25 \t1  \t3.39402"
       ]
      },
      {
       "output_type": "stream",
       "stream": "stdout",
       "text": [
        "\n",
        "18 \t164   \t0          \t0.187344\t3.51394\t0.0172743\t0.431321\t12.8275\t27 \t1  \t3.39452"
       ]
      },
      {
       "output_type": "stream",
       "stream": "stdout",
       "text": [
        "\n",
        "19 \t131   \t0          \t0.178914\t6.20995\t0.0172743\t0.494918\t12.7075\t28 \t2  \t3.42446"
       ]
      },
      {
       "output_type": "stream",
       "stream": "stdout",
       "text": [
        "\n",
        "20 \t135   \t0          \t0.162241\t7.56817\t0.0172743\t0.498137\t12.8525\t36 \t3  \t3.5827 "
       ]
      },
      {
       "output_type": "stream",
       "stream": "stdout",
       "text": [
        "\n",
        "21 \t134   \t0.106193   \t0.159103\t4.147  \t0.0154398\t0.462306\t13.605 \t30 \t1  \t4.13932"
       ]
      },
      {
       "output_type": "stream",
       "stream": "stdout",
       "text": [
        "\n",
        "22 \t145   \t0.866665   \t0.228657\t9.58708\t0.00205868\t0.678247\t15.01  \t28 \t1  \t4.47492"
       ]
      },
      {
       "output_type": "stream",
       "stream": "stdout",
       "text": [
        "\n",
        "23 \t129   \t0          \t0.132807\t3.51394\t0.00205868\t0.326712\t16.69  \t35 \t1  \t4.40272"
       ]
      },
      {
       "output_type": "stream",
       "stream": "stdout",
       "text": [
        "\n",
        "24 \t169   \t0          \t0.221078\t8.42752\t0.00205868\t0.738429\t18.0525\t35 \t3  \t3.79668"
       ]
      },
      {
       "output_type": "stream",
       "stream": "stdout",
       "text": [
        "\n",
        "25 \t145   \t0          \t0.188568\t7.5417 \t0.00205868\t0.61286 \t18.465 \t35 \t3  \t3.32171"
       ]
      },
      {
       "output_type": "stream",
       "stream": "stdout",
       "text": [
        "\n",
        "26 \t174   \t0          \t0.352021\t10.1592\t0.00205868\t1.13427 \t17.9625\t35 \t2  \t4.29489"
       ]
      },
      {
       "output_type": "stream",
       "stream": "stdout",
       "text": [
        "\n",
        "27 \t127   \t0          \t0.154166\t4.147  \t0.00205868\t0.488481\t17.7325\t35 \t3  \t4.33485"
       ]
      },
      {
       "output_type": "stream",
       "stream": "stdout",
       "text": [
        "\n",
        "28 \t167   \t0.216672   \t0.213026\t3.86678\t0.00161262\t0.511591\t17.2775\t38 \t1  \t5.20101"
       ]
      },
      {
       "output_type": "stream",
       "stream": "stdout",
       "text": [
        "\n",
        "29 \t137   \t-0.276605  \t0.218631\t7.5417 \t0.00205868\t0.698722\t17.565 \t36 \t1  \t5.5232 "
       ]
      },
      {
       "output_type": "stream",
       "stream": "stdout",
       "text": [
        "\n",
        "30 \t148   \t0          \t0.274961\t12.3678\t0.00205868\t0.986035\t19.1025\t38 \t1  \t5.61044"
       ]
      },
      {
       "output_type": "stream",
       "stream": "stdout",
       "text": [
        "\n",
        "31 \t128   \t0          \t0.172442\t4.32382\t0.00205868\t0.518456\t19.3575\t43 \t2  \t5.04824"
       ]
      },
      {
       "output_type": "stream",
       "stream": "stdout",
       "text": [
        "\n",
        "32 \t125   \t0          \t0.127387\t3.05409\t0.00205868\t0.334186\t18.8975\t39 \t3  \t4.65102"
       ]
      },
      {
       "output_type": "stream",
       "stream": "stdout",
       "text": [
        "\n",
        "33 \t152   \t0.216672   \t0.167228\t15.6654\t0.00161262\t0.833112\t18.6425\t38 \t1  \t4.28015"
       ]
      },
      {
       "output_type": "stream",
       "stream": "stdout",
       "text": [
        "\n",
        "34 \t151   \t0          \t0.0893308\t2.58258\t0.00161262\t0.267308\t18.845 \t35 \t1  \t3.79091"
       ]
      },
      {
       "output_type": "stream",
       "stream": "stdout",
       "text": [
        "\n",
        "35 \t168   \t0          \t0.15796  \t2.11889\t0.00161262\t0.358054\t18.7575\t35 \t3  \t5.17578"
       ]
      },
      {
       "output_type": "stream",
       "stream": "stdout",
       "text": [
        "\n",
        "36 \t138   \t0          \t0.122445 \t2.88173\t0.00161262\t0.353347\t18.7425\t36 \t2  \t3.56036"
       ]
      },
      {
       "output_type": "stream",
       "stream": "stdout",
       "text": [
        "\n",
        "37 \t134   \t0          \t0.123574 \t3.19915\t0.00161262\t0.34393 \t18.9125\t36 \t1  \t4.08777"
       ]
      },
      {
       "output_type": "stream",
       "stream": "stdout",
       "text": [
        "\n",
        "38 \t139   \t0          \t0.159187 \t5.4573 \t0.00161262\t0.482093\t18.9   \t36 \t1  \t4.47381"
       ]
      },
      {
       "output_type": "stream",
       "stream": "stdout",
       "text": [
        "\n",
        "39 \t157   \t0.404314   \t0.181188 \t3.89765\t0.000960614\t0.429957\t19.24  \t39 \t2  \t5.15096"
       ]
      },
      {
       "output_type": "stream",
       "stream": "stdout",
       "text": [
        "\n",
        "40 \t151   \t0.697577   \t0.121582 \t3.34048\t0.000290511\t0.327884\t19.555 \t40 \t1  \t5.33076"
       ]
      },
      {
       "output_type": "stream",
       "stream": "stdout",
       "text": [
        "\n",
        "41 \t151   \t0          \t0.119999 \t3.02754\t0.000290511\t0.329472\t19.565 \t37 \t1  \t4.78548"
       ]
      },
      {
       "output_type": "stream",
       "stream": "stdout",
       "text": [
        "\n",
        "42 \t140   \t0          \t0.134577 \t7.55897\t0.000290511\t0.48377 \t19.625 \t37 \t3  \t4.2976 "
       ]
      },
      {
       "output_type": "stream",
       "stream": "stdout",
       "text": [
        "\n",
        "43 \t164   \t0          \t0.120994 \t2.65914\t0.000290511\t0.350378\t19.8975\t37 \t2  \t3.77319"
       ]
      },
      {
       "output_type": "stream",
       "stream": "stdout",
       "text": [
        "\n",
        "44 \t149   \t0          \t0.119571 \t2.03949\t0.000290511\t0.285572\t19.82  \t40 \t3  \t4.35461"
       ]
      },
      {
       "output_type": "stream",
       "stream": "stdout",
       "text": [
        "\n",
        "45 \t155   \t0          \t0.153133 \t4.4577 \t0.000290511\t0.427786\t19.745 \t37 \t1  \t4.84613"
       ]
      },
      {
       "output_type": "stream",
       "stream": "stdout",
       "text": [
        "\n",
        "46 \t129   \t0          \t0.0924466\t2.22745\t0.000290511\t0.246767\t20.05  \t39 \t3  \t4.48135"
       ]
      },
      {
       "output_type": "stream",
       "stream": "stdout",
       "text": [
        "\n",
        "47 \t160   \t0          \t0.136399 \t2.73469\t0.000290511\t0.343359\t20.0475\t37 \t3  \t4.45199"
       ]
      },
      {
       "output_type": "stream",
       "stream": "stdout",
       "text": [
        "\n",
        "48 \t130   \t0          \t0.0806455\t1.94939\t0.000290511\t0.227046\t19.78  \t40 \t1  \t4.24401"
       ]
      },
      {
       "output_type": "stream",
       "stream": "stdout",
       "text": [
        "\n",
        "49 \t134   \t0          \t0.0921291\t2.11889\t0.000290511\t0.25441 \t19.8625\t37 \t1  \t5.07283"
       ]
      },
      {
       "output_type": "stream",
       "stream": "stdout",
       "text": [
        "\n",
        "50 \t143   \t0          \t0.130608 \t13.5353\t0.000290511\t0.734825\t19.685 \t37 \t1  \t5.027  "
       ]
      },
      {
       "output_type": "stream",
       "stream": "stdout",
       "text": [
        "\n",
        "51 \t148   \t0          \t0.11798  \t3.04711\t0.000290511\t0.339443\t19.9475\t41 \t3  \t4.53539"
       ]
      },
      {
       "output_type": "stream",
       "stream": "stdout",
       "text": [
        "\n",
        "52 \t152   \t0          \t0.147845 \t2.24297\t0.000290511\t0.393119\t19.9075\t39 \t1  \t4.42594"
       ]
      },
      {
       "output_type": "stream",
       "stream": "stdout",
       "text": [
        "\n",
        "53 \t151   \t0          \t0.170555 \t16.5071\t0.000290511\t0.899916\t19.9025\t37 \t3  \t4.34085"
       ]
      },
      {
       "output_type": "stream",
       "stream": "stdout",
       "text": [
        "\n",
        "54 \t185   \t0          \t0.162694 \t4.19956\t0.000290511\t0.402346\t19.715 \t37 \t2  \t5.20661"
       ]
      },
      {
       "output_type": "stream",
       "stream": "stdout",
       "text": [
        "\n",
        "55 \t154   \t0          \t0.123535 \t1.93158\t0.000290511\t0.297248\t19.595 \t37 \t1  \t4.93518"
       ]
      },
      {
       "output_type": "stream",
       "stream": "stdout",
       "text": [
        "\n",
        "56 \t143   \t0          \t0.120011 \t2.9329 \t0.000290511\t0.346331\t19.885 \t37 \t1  \t4.54937"
       ]
      },
      {
       "output_type": "stream",
       "stream": "stdout",
       "text": [
        "\n",
        "57 \t142   \t0          \t0.12257  \t2.9596 \t0.000290511\t0.335327\t19.7425\t37 \t3  \t4.65308"
       ]
      },
      {
       "output_type": "stream",
       "stream": "stdout",
       "text": [
        "\n",
        "58 \t143   \t0          \t0.131707 \t3.09306\t0.000290511\t0.346551\t19.8075\t37 \t3  \t4.52443"
       ]
      },
      {
       "output_type": "stream",
       "stream": "stdout",
       "text": [
        "\n",
        "59 \t137   \t0          \t0.0963816\t2.64297\t0.000290511\t0.28033 \t19.7425\t37 \t3  \t4.62668"
       ]
      },
      {
       "output_type": "stream",
       "stream": "stdout",
       "text": [
        "\n",
        "60 \t139   \t0          \t0.155737 \t14.1054\t0.000290511\t0.775773\t19.9325\t37 \t3  \t3.86043"
       ]
      },
      {
       "output_type": "stream",
       "stream": "stdout",
       "text": [
        "\n",
        "61 \t132   \t0          \t0.100499 \t2.6434 \t0.000290511\t0.290713\t19.8325\t48 \t3  \t4.49994"
       ]
      },
      {
       "output_type": "stream",
       "stream": "stdout",
       "text": [
        "\n",
        "62 \t151   \t0          \t0.104587 \t2.03949\t0.000290511\t0.28412 \t19.7925\t37 \t3  \t4.14602"
       ]
      },
      {
       "output_type": "stream",
       "stream": "stdout",
       "text": [
        "\n",
        "63 \t131   \t0          \t0.115512 \t1.71032\t0.000290511\t0.271999\t19.895 \t37 \t3  \t4.72747"
       ]
      },
      {
       "output_type": "stream",
       "stream": "stdout",
       "text": [
        "\n",
        "64 \t154   \t0          \t0.131724 \t2.47148\t0.000290511\t0.337982\t19.7975\t37 \t1  \t4.49016"
       ]
      },
      {
       "output_type": "stream",
       "stream": "stdout",
       "text": [
        "\n",
        "65 \t151   \t0          \t0.172722 \t4.5314 \t0.000290511\t0.463319\t19.7925\t44 \t1  \t4.39425"
       ]
      },
      {
       "output_type": "stream",
       "stream": "stdout",
       "text": [
        "\n",
        "66 \t170   \t0          \t0.114206 \t1.93158\t0.000290511\t0.298779\t19.96  \t37 \t3  \t4.4072 "
       ]
      },
      {
       "output_type": "stream",
       "stream": "stdout",
       "text": [
        "\n",
        "67 \t143   \t0          \t0.130754 \t2.71187\t0.000290511\t0.368596\t20.1175\t41 \t3  \t4.42422"
       ]
      },
      {
       "output_type": "stream",
       "stream": "stdout",
       "text": [
        "\n",
        "68 \t156   \t0          \t0.128495 \t2.71187\t0.000290511\t0.340651\t19.9875\t37 \t3  \t4.50748"
       ]
      },
      {
       "output_type": "stream",
       "stream": "stdout",
       "text": [
        "\n",
        "69 \t165   \t0          \t0.126287 \t3.18976\t0.000290511\t0.326038\t19.9725\t37 \t1  \t5.63265"
       ]
      },
      {
       "output_type": "stream",
       "stream": "stdout",
       "text": [
        "\n",
        "70 \t129   \t0          \t0.0860633\t1.71429\t0.000290511\t0.246704\t20.0625\t41 \t1  \t4.39188"
       ]
      },
      {
       "output_type": "stream",
       "stream": "stdout",
       "text": [
        "\n",
        "71 \t132   \t0          \t0.115529 \t2.83474\t0.000290511\t0.330824\t19.69  \t38 \t1  \t4.39817"
       ]
      },
      {
       "output_type": "stream",
       "stream": "stdout",
       "text": [
        "\n",
        "72 \t148   \t0          \t0.122463 \t2.72535\t0.000290511\t0.303745\t19.685 \t40 \t1  \t5.47821"
       ]
      },
      {
       "output_type": "stream",
       "stream": "stdout",
       "text": [
        "\n",
        "73 \t137   \t0          \t0.106197 \t3.49148\t0.000290511\t0.327594\t20.0675\t39 \t1  \t4.35407"
       ]
      },
      {
       "output_type": "stream",
       "stream": "stdout",
       "text": [
        "\n",
        "74 \t159   \t0          \t0.149432 \t2.49241\t0.000290511\t0.363357\t19.85  \t37 \t1  \t4.76314"
       ]
      },
      {
       "output_type": "stream",
       "stream": "stdout",
       "text": [
        "\n",
        "75 \t155   \t0          \t0.148299 \t4.19956\t0.000290511\t0.378669\t19.585 \t40 \t1  \t5.39702"
       ]
      },
      {
       "output_type": "stream",
       "stream": "stdout",
       "text": [
        "\n",
        "76 \t163   \t0.862286   \t0.110507 \t1.71032\t4.00073e-05\t0.272328\t19.9275\t38 \t2  \t4.51522"
       ]
      },
      {
       "output_type": "stream",
       "stream": "stdout",
       "text": [
        "\n",
        "77 \t168   \t0          \t0.141767 \t4.06635\t4.00073e-05\t0.403791\t20.14  \t45 \t1  \t4.85699"
       ]
      },
      {
       "output_type": "stream",
       "stream": "stdout",
       "text": [
        "\n",
        "78 \t134   \t0          \t0.130539 \t2.71187\t4.00073e-05\t0.341623\t20.16  \t39 \t3  \t4.69248"
       ]
      },
      {
       "output_type": "stream",
       "stream": "stdout",
       "text": [
        "\n",
        "79 \t150   \t0          \t0.128996 \t2.90136\t4.00073e-05\t0.34783 \t20.24  \t48 \t1  \t5.58054"
       ]
      },
      {
       "output_type": "stream",
       "stream": "stdout",
       "text": [
        "\n",
        "80 \t146   \t0          \t0.125751 \t1.7866 \t4.00073e-05\t0.298205\t21.0825\t48 \t3  \t5.88861"
       ]
      },
      {
       "output_type": "stream",
       "stream": "stdout",
       "text": [
        "\n",
        "81 \t174   \t0          \t0.12943  \t1.45313\t4.00073e-05\t0.284192\t22.375 \t50 \t3  \t6.5226 "
       ]
      },
      {
       "output_type": "stream",
       "stream": "stdout",
       "text": [
        "\n",
        "82 \t144   \t0          \t0.0903581\t2.1924 \t4.00073e-05\t0.23381 \t24.0875\t53 \t1  \t6.82348"
       ]
      },
      {
       "output_type": "stream",
       "stream": "stdout",
       "text": [
        "\n",
        "83 \t137   \t0          \t0.089567 \t1.79475\t4.00073e-05\t0.252959\t25.635 \t53 \t1  \t6.62471"
       ]
      },
      {
       "output_type": "stream",
       "stream": "stdout",
       "text": [
        "\n",
        "84 \t144   \t0          \t0.0867987\t2.31202\t4.00073e-05\t0.271022\t26.9925\t53 \t3  \t6.86858"
       ]
      },
      {
       "output_type": "stream",
       "stream": "stdout",
       "text": [
        "\n",
        "85 \t150   \t0          \t0.142591 \t13.8795\t4.00073e-05\t0.757456\t27.04  \t54 \t1  \t7.32212"
       ]
      },
      {
       "output_type": "stream",
       "stream": "stdout",
       "text": [
        "\n",
        "86 \t135   \t0          \t0.0964702\t4.32396\t4.00073e-05\t0.33237 \t27.3975\t53 \t1  \t7.11825"
       ]
      },
      {
       "output_type": "stream",
       "stream": "stdout",
       "text": [
        "\n",
        "87 \t150   \t0.115594   \t0.114634 \t2.3179 \t3.53827e-05\t0.323326\t27.4825\t55 \t3  \t6.76718"
       ]
      },
      {
       "output_type": "stream",
       "stream": "stdout",
       "text": [
        "\n",
        "88 \t148   \t0          \t0.093217 \t2.03949\t3.53827e-05\t0.262176\t27.585 \t52 \t1  \t7.33436"
       ]
      },
      {
       "output_type": "stream",
       "stream": "stdout",
       "text": [
        "\n",
        "89 \t141   \t0          \t0.101754 \t2.37058\t3.53827e-05\t0.27412 \t28.0825\t55 \t3  \t6.93366"
       ]
      },
      {
       "output_type": "stream",
       "stream": "stdout",
       "text": [
        "\n",
        "90 \t157   \t0          \t0.107083 \t1.78785\t3.53827e-05\t0.266776\t28.6725\t68 \t1  \t8.096  "
       ]
      },
      {
       "output_type": "stream",
       "stream": "stdout",
       "text": [
        "\n",
        "91 \t137   \t0.350559   \t0.0620142\t1.89671\t2.2979e-05 \t0.196748\t29.5   \t68 \t3  \t7.60658"
       ]
      },
      {
       "output_type": "stream",
       "stream": "stdout",
       "text": [
        "\n",
        "92 \t161   \t0          \t0.0962199\t1.85648\t2.2979e-05 \t0.260929\t30.1875\t61 \t1  \t7.8104 "
       ]
      },
      {
       "output_type": "stream",
       "stream": "stdout",
       "text": [
        "\n",
        "93 \t162   \t0          \t0.0904837\t2.92424\t2.2979e-05 \t0.277345\t31.7525\t67 \t3  \t8.39769"
       ]
      },
      {
       "output_type": "stream",
       "stream": "stdout",
       "text": [
        "\n",
        "94 \t161   \t0          \t0.0943473\t2.47178\t2.2979e-05 \t0.28696 \t33.9175\t69 \t3  \t9.68172"
       ]
      },
      {
       "output_type": "stream",
       "stream": "stdout",
       "text": [
        "\n",
        "95 \t142   \t0.0547226  \t0.118623 \t15.2735\t2.17215e-05\t0.801913\t34.9125\t69 \t3  \t7.99937"
       ]
      },
      {
       "output_type": "stream",
       "stream": "stdout",
       "text": [
        "\n",
        "96 \t166   \t0          \t0.0646526\t1.75413\t2.17215e-05\t0.204987\t35.08  \t66 \t1  \t8.18954"
       ]
      },
      {
       "output_type": "stream",
       "stream": "stdout",
       "text": [
        "\n",
        "97 \t172   \t0          \t0.0848983\t1.78879\t2.17215e-05\t0.236021\t35.775 \t76 \t1  \t10.566 "
       ]
      },
      {
       "output_type": "stream",
       "stream": "stdout",
       "text": [
        "\n",
        "98 \t154   \t0          \t0.104724 \t15.747 \t2.17215e-05\t0.813437\t36.5325\t71 \t3  \t7.25251"
       ]
      },
      {
       "output_type": "stream",
       "stream": "stdout",
       "text": [
        "\n",
        "99 \t142   \t-0.0578906 \t0.0730928\t2.2721 \t2.2979e-05 \t0.247213\t36.78  \t79 \t3  \t10.4509"
       ]
      },
      {
       "output_type": "stream",
       "stream": "stdout",
       "text": [
        "\n",
        "100\t145   \t0          \t0.0914393\t2.6894 \t2.2979e-05 \t0.28404 \t37.1175\t79 \t1  \t10.5482"
       ]
      },
      {
       "output_type": "stream",
       "stream": "stdout",
       "text": [
        "\n",
        "101\t174   \t0.0680824  \t0.113148 \t7.01496\t2.14145e-05\t0.455522\t37.53  \t79 \t3  \t10.5444"
       ]
      },
      {
       "output_type": "stream",
       "stream": "stdout",
       "text": [
        "\n",
        "102\t141   \t0          \t0.0573751\t1.18752\t2.14145e-05\t0.176182\t37.405 \t78 \t3  \t10.2184"
       ]
      },
      {
       "output_type": "stream",
       "stream": "stdout",
       "text": [
        "\n",
        "103\t146   \t0          \t0.0710161\t1.98415\t2.14145e-05\t0.221988\t37.05  \t71 \t1  \t9.01818"
       ]
      },
      {
       "output_type": "stream",
       "stream": "stdout",
       "text": [
        "\n",
        "104\t132   \t0          \t0.079713 \t2.18134\t2.14145e-05\t0.25471 \t36.435 \t71 \t3  \t9.53367"
       ]
      },
      {
       "output_type": "stream",
       "stream": "stdout",
       "text": [
        "\n",
        "105\t135   \t0          \t0.0573746\t1.56494\t2.14145e-05\t0.194456\t36.725 \t71 \t3  \t7.24599"
       ]
      },
      {
       "output_type": "stream",
       "stream": "stdout",
       "text": [
        "\n",
        "106\t128   \t0.0936649  \t0.0945414\t14.0549\t1.94087e-05\t0.72691 \t36.25  \t71 \t1  \t8.15399"
       ]
      },
      {
       "output_type": "stream",
       "stream": "stdout",
       "text": [
        "\n",
        "107\t154   \t0          \t0.0656111\t2.03949\t1.94087e-05\t0.201837\t36.3825\t69 \t1  \t8.40602"
       ]
      },
      {
       "output_type": "stream",
       "stream": "stdout",
       "text": [
        "\n",
        "108\t150   \t0          \t0.0769828\t2.36742\t1.94087e-05\t0.255839\t36.5075\t71 \t3  \t8.80312"
       ]
      },
      {
       "output_type": "stream",
       "stream": "stdout",
       "text": [
        "\n",
        "109\t151   \t0          \t0.077464 \t2.27037\t1.94087e-05\t0.245503\t37.165 \t74 \t1  \t9.05388"
       ]
      },
      {
       "output_type": "stream",
       "stream": "stdout",
       "text": [
        "\n",
        "110\t143   \t0          \t0.0668155\t1.37999\t1.94087e-05\t0.19551 \t37.825 \t79 \t1  \t10.4053"
       ]
      },
      {
       "output_type": "stream",
       "stream": "stdout",
       "text": [
        "\n",
        "111\t161   \t0          \t0.0839163\t2.01024\t1.94087e-05\t0.268378\t38.2025\t79 \t1  \t9.34995"
       ]
      },
      {
       "output_type": "stream",
       "stream": "stdout",
       "text": [
        "\n",
        "112\t135   \t0          \t0.0690946\t1.61744\t1.94087e-05\t0.228264\t39.4725\t83 \t3  \t10.7221"
       ]
      },
      {
       "output_type": "stream",
       "stream": "stdout",
       "text": [
        "\n",
        "113\t138   \t0          \t0.0794973\t2.69332\t1.94087e-05\t0.296078\t40.39  \t86 \t1  \t11.0444"
       ]
      },
      {
       "output_type": "stream",
       "stream": "stdout",
       "text": [
        "\n",
        "114\t167   \t0          \t0.0603652\t2.03949\t1.94087e-05\t0.213919\t42.335 \t80 \t3  \t10.7381"
       ]
      },
      {
       "output_type": "stream",
       "stream": "stdout",
       "text": [
        "\n",
        "115\t159   \t0          \t0.0662923\t1.89671\t1.94087e-05\t0.219827\t43.86  \t89 \t1  \t12.0229"
       ]
      },
      {
       "output_type": "stream",
       "stream": "stdout",
       "text": [
        "\n",
        "116\t137   \t0          \t0.0568708\t1.8093 \t1.94087e-05\t0.20312 \t44.7025\t90 \t3  \t10.9155"
       ]
      },
      {
       "output_type": "stream",
       "stream": "stdout",
       "text": [
        "\n",
        "117\t145   \t0          \t0.0525493\t2.3179 \t1.94087e-05\t0.214737\t45.3575\t90 \t3  \t10.2946"
       ]
      },
      {
       "output_type": "stream",
       "stream": "stdout",
       "text": [
        "\n",
        "118\t143   \t0.0215374  \t0.0474289\t1.89671\t1.89907e-05\t0.187566\t44.76  \t84 \t3  \t10.1209"
       ]
      },
      {
       "output_type": "stream",
       "stream": "stdout",
       "text": [
        "\n",
        "119\t151   \t0.027394   \t0.0509776\t1.85395\t1.84705e-05\t0.194984\t44.56  \t89 \t1  \t10.7176"
       ]
      },
      {
       "output_type": "stream",
       "stream": "stdout",
       "text": [
        "\n",
        "120\t139   \t0          \t0.0681327\t1.8093 \t1.84705e-05\t0.246915\t45.415 \t87 \t5  \t11.6367"
       ]
      },
      {
       "output_type": "stream",
       "stream": "stdout",
       "text": [
        "\n",
        "121\t130   \t0          \t0.0505962\t1.45111\t1.84705e-05\t0.192203\t46.2625\t83 \t3  \t10.2997"
       ]
      },
      {
       "output_type": "stream",
       "stream": "stdout",
       "text": [
        "\n",
        "122\t116   \t0          \t0.0540033\t2.49124\t1.84705e-05\t0.227426\t46.075 \t86 \t4  \t10.4565"
       ]
      },
      {
       "output_type": "stream",
       "stream": "stdout",
       "text": [
        "\n",
        "123\t145   \t0          \t0.0670005\t2.16925\t1.84705e-05\t0.243478\t47.4275\t89 \t3  \t14.3501"
       ]
      },
      {
       "output_type": "stream",
       "stream": "stdout",
       "text": [
        "\n",
        "124\t159   \t0          \t0.0570457\t1.59467\t1.84705e-05\t0.205713\t50.1   \t88 \t1  \t14.1725"
       ]
      },
      {
       "output_type": "stream",
       "stream": "stdout",
       "text": [
        "\n",
        "125\t145   \t0          \t0.0520421\t1.79005\t1.84705e-05\t0.196639\t53.97  \t90 \t2  \t13.718 "
       ]
      },
      {
       "output_type": "stream",
       "stream": "stdout",
       "text": [
        "\n",
        "126\t147   \t0          \t0.0495101\t1.46385\t1.84705e-05\t0.181884\t55.29  \t90 \t3  \t14.5465"
       ]
      },
      {
       "output_type": "stream",
       "stream": "stdout",
       "text": [
        "\n",
        "127\t149   \t0.00486913 \t2.73701  \t1082.43\t1.83805e-05\t54.0525 \t57.3025\t90 \t1  \t12.8521"
       ]
      },
      {
       "output_type": "stream",
       "stream": "stdout",
       "text": [
        "\n",
        "128\t141   \t0          \t0.0358658\t2.01393\t1.83805e-05\t0.186905\t55.62  \t90 \t5  \t12.7164"
       ]
      },
      {
       "output_type": "stream",
       "stream": "stdout",
       "text": [
        "\n",
        "129\t148   \t0          \t0.0404979\t1.37999\t1.83805e-05\t0.169114\t54.52  \t90 \t2  \t12.9037"
       ]
      },
      {
       "output_type": "stream",
       "stream": "stdout",
       "text": [
        "\n",
        "130\t153   \t0          \t0.043974 \t3.78219\t1.83805e-05\t0.235445\t54.01  \t86 \t3  \t12.3612"
       ]
      },
      {
       "output_type": "stream",
       "stream": "stdout",
       "text": [
        "\n",
        "131\t154   \t0          \t0.0430003\t1.42159\t1.83805e-05\t0.180083\t55.3925\t90 \t4  \t13.2855"
       ]
      },
      {
       "output_type": "stream",
       "stream": "stdout",
       "text": [
        "\n",
        "132\t151   \t0          \t0.0460522\t2.03949\t1.83805e-05\t0.20305 \t57.545 \t87 \t1  \t14.6565"
       ]
      },
      {
       "output_type": "stream",
       "stream": "stdout",
       "text": [
        "\n",
        "133\t151   \t0          \t0.0403051\t1.34655\t1.83805e-05\t0.172126\t59.2125\t90 \t3  \t17.5393"
       ]
      },
      {
       "output_type": "stream",
       "stream": "stdout",
       "text": [
        "\n",
        "134\t160   \t0          \t0.0391658\t1.68557\t1.83805e-05\t0.171274\t63.6375\t90 \t3  \t17.8266"
       ]
      },
      {
       "output_type": "stream",
       "stream": "stdout",
       "text": [
        "\n",
        "135\t177   \t0          \t0.032319 \t1.15175\t1.83805e-05\t0.135021\t66.4975\t88 \t2  \t16.738 "
       ]
      },
      {
       "output_type": "stream",
       "stream": "stdout",
       "text": [
        "\n",
        "136\t152   \t0.00304671 \t0.0365845\t1.89671\t1.83245e-05\t0.180594\t68.0325\t86 \t3  \t15.9547"
       ]
      },
      {
       "output_type": "stream",
       "stream": "stdout",
       "text": [
        "\n",
        "137\t162   \t0.00070795 \t0.0420181\t2.28317\t1.83116e-05\t0.197915\t68.745 \t87 \t2  \t15.3049"
       ]
      },
      {
       "output_type": "stream",
       "stream": "stdout",
       "text": [
        "\n",
        "138\t141   \t0          \t0.0305577\t2.03949\t1.83116e-05\t0.1583  \t70.3225\t86 \t3  \t13.317 "
       ]
      },
      {
       "output_type": "stream",
       "stream": "stdout",
       "text": [
        "\n",
        "139\t143   \t0          \t0.026196 \t2.3179 \t1.83116e-05\t0.15495 \t70.1   \t86 \t1  \t13.3574"
       ]
      },
      {
       "output_type": "stream",
       "stream": "stdout",
       "text": [
        "\n",
        "140\t172   \t0          \t0.0345304\t2.33319\t1.83116e-05\t0.171354\t69.97  \t86 \t3  \t14.3706"
       ]
      },
      {
       "output_type": "stream",
       "stream": "stdout",
       "text": [
        "\n",
        "141\t145   \t0          \t0.0517368\t3.92676\t1.83116e-05\t0.27001 \t69.6625\t88 \t3  \t15.0963"
       ]
      },
      {
       "output_type": "stream",
       "stream": "stdout",
       "text": [
        "\n",
        "142\t131   \t0          \t0.03073  \t1.89671\t1.83116e-05\t0.165929\t70.8175\t87 \t1  \t13.4048"
       ]
      },
      {
       "output_type": "stream",
       "stream": "stdout",
       "text": [
        "\n",
        "143\t157   \t0          \t0.0282586\t1.46565\t1.83116e-05\t0.132261\t71.0925\t88 \t3  \t14.522 "
       ]
      },
      {
       "output_type": "stream",
       "stream": "stdout",
       "text": [
        "\n",
        "144\t119   \t0          \t0.0234858\t1.30975\t1.83116e-05\t0.131083\t72.8075\t90 \t3  \t13.8322"
       ]
      },
      {
       "output_type": "stream",
       "stream": "stdout",
       "text": [
        "\n",
        "145\t138   \t0          \t0.0227209\t3.08985\t1.83116e-05\t0.177908\t74.0525\t89 \t1  \t15.6817"
       ]
      },
      {
       "output_type": "stream",
       "stream": "stdout",
       "text": [
        "\n",
        "146\t167   \t0          \t0.0239971\t2.16349\t1.83116e-05\t0.146935\t76.84  \t90 \t5  \t14.1704"
       ]
      },
      {
       "output_type": "stream",
       "stream": "stdout",
       "text": [
        "\n",
        "147\t138   \t0          \t0.0255864\t1.68494\t1.83116e-05\t0.145873\t78.145 \t89 \t3  \t15.0592"
       ]
      },
      {
       "output_type": "stream",
       "stream": "stdout",
       "text": [
        "\n",
        "148\t136   \t0          \t0.0172086\t1.68494\t1.83116e-05\t0.12418 \t79.11  \t90 \t3  \t13.4532"
       ]
      },
      {
       "output_type": "stream",
       "stream": "stdout",
       "text": [
        "\n",
        "149\t126   \t0          \t0.0205716\t1.68494\t1.83116e-05\t0.130717\t78.57  \t90 \t1  \t14.5647"
       ]
      },
      {
       "output_type": "stream",
       "stream": "stdout",
       "text": [
        "\n",
        "150\t139   \t0          \t0.0256978\t1.37999\t1.83116e-05\t0.139107\t78.6175\t90 \t5  \t15.5307"
       ]
      },
      {
       "output_type": "stream",
       "stream": "stdout",
       "text": [
        "\n",
        "Reached generation limitation of 150."
       ]
      },
      {
       "output_type": "stream",
       "stream": "stdout",
       "text": [
        "\n",
        "Evolution execution time: 14.119\n",
        "Best individual is add(x, mul(add(mul(x, x), add(add(add(sin(x), x), neg(sin(add(x, add(add(sin(x), x), neg(sin(sin(sin(add(add(sin(x), x), neg(sin(sin(sin(add(add(sin(x), sin(add(add(sin(x), sin(add(add(sin(x), x), neg(sin(sin(sin(x))))))), neg(sin(sin(sin(add(add(sin(sin(add(add(sin(x), x), neg(sin(sin(x)))))), x), neg(sin(sin(x))))))))))), neg(sin(sin(x)))))))))))))))))), x)), x)), (1.8311565063846437e-05,)\n"
       ]
      }
     ],
     "prompt_number": 42
    },
    {
     "cell_type": "heading",
     "level": 1,
     "metadata": {},
     "source": [
      "Plots"
     ]
    },
    {
     "cell_type": "heading",
     "level": 2,
     "metadata": {},
     "source": [
      "Plotting generation performance"
     ]
    },
    {
     "cell_type": "code",
     "collapsed": false,
     "input": [
      "generations = np.array(logbook.select(\"gen\"))\n",
      "fitness_minimums = np.array(logbook.chapters['fitness'].select(\"min\"))\n",
      "fitness_maximums = np.array(logbook.chapters['fitness'].select(\"max\"))\n",
      "fitness_averages = np.array(logbook.chapters['fitness'].select(\"avg\"))\n",
      "fitness_yerr_min = fitness_averages-fitness_minimums\n",
      "fitness_yerr_max = fitness_maximums-fitness_averages\n",
      "\n",
      "plt.plot(generations, fitness_minimums, color=\"blue\", linewidth=1.2,\n",
      "     label=\"Raw minimum\")\n",
      "plt.plot(generations, fitness_maximums, color = \"red\", linewidth=1.2,\n",
      "     label=\"Raw maximum\")\n",
      "#plt.fill_between(generations, minimums, maximums, color=\"green\",\n",
      "#             alpha=0.1)\n",
      "plt.errorbar(generations, fitness_averages, \n",
      "             [fitness_yerr_min, fitness_yerr_max],\n",
      "         color=\"green\", alpha=0.5, linewidth=1.2,\n",
      "         label=\"Average fitness\")\n",
      "\n",
      "plt.xlim(0, len(generations)-1)\n",
      "plt.ylim(min(fitness_minimums)-5, 2)\n",
      "plt.legend(loc='upper right')\n",
      "plt.xlabel('Generations')\n",
      "plt.ylabel('Score')\n",
      "plt.title('Raw score evolution over time');"
     ],
     "language": "python",
     "metadata": {},
     "outputs": [
      {
       "metadata": {},
       "output_type": "display_data",
       "png": "[encoded data removed]",
       "text": [
        "<matplotlib.figure.Figure at 0x5632610>"
       ]
      }
     ],
     "prompt_number": 43
    },
    {
     "cell_type": "heading",
     "level": 2,
     "metadata": {},
     "source": [
      "Set here which individual to plot"
     ]
    },
    {
     "cell_type": "code",
     "collapsed": false,
     "input": [
      "individual = best_ind"
     ],
     "language": "python",
     "metadata": {},
     "outputs": [],
     "prompt_number": 44
    },
    {
     "cell_type": "heading",
     "level": 2,
     "metadata": {},
     "source": [
      "Plotting the GP tree"
     ]
    },
    {
     "cell_type": "code",
     "collapsed": false,
     "input": [
      "nodes, edges, labels = gp.graph(individual)\n",
      "graph = networkx.Graph()\n",
      "graph.add_nodes_from(nodes)\n",
      "graph.add_edges_from(edges)\n",
      "pos = networkx.graphviz_layout(graph, prog=\"dot\")\n",
      "\n",
      "plt.figure(figsize=(14,24))\n",
      "networkx.draw_networkx_nodes(graph, pos, node_size=900, node_color=\"w\")\n",
      "networkx.draw_networkx_edges(graph, pos)\n",
      "networkx.draw_networkx_labels(graph, pos, labels)\n",
      "plt.axis(\"off\")\n",
      "plt.show()"
     ],
     "language": "python",
     "metadata": {},
     "outputs": [
      {
       "metadata": {},
       "output_type": "display_data",
       "png": "[encoded data removed]",
       "text": [
        "<matplotlib.figure.Figure at 0x5d35410>"
       ]
      }
     ],
     "prompt_number": 45
    },
    {
     "cell_type": "heading",
     "level": 2,
     "metadata": {},
     "source": [
      "The simplified equation"
     ]
    },
    {
     "cell_type": "code",
     "collapsed": false,
     "input": [
      "x = Symbol('x')\n",
      "equation = parse_equation(str(individual))\n",
      "print equation"
     ],
     "language": "python",
     "metadata": {},
     "outputs": [
      {
       "output_type": "stream",
       "stream": "stdout",
       "text": [
        "(x+(((x*x)+(((sin(x)+x)+(-sin((x+((sin(x)+x)+(-sin(sin(sin(((sin(x)+x)+(-sin(sin(sin(((sin(x)+sin(((sin(x)+sin(((sin(x)+x)+(-sin(sin(sin(x)))))))+(-sin(sin(sin(((sin(sin(((sin(x)+x)+(-sin(sin(x))))))+x)+(-sin(sin(x)))))))))))+(-sin(sin(x))))))))))))))))))+x))*x))\n"
       ]
      }
     ],
     "prompt_number": 46
    },
    {
     "cell_type": "code",
     "collapsed": false,
     "input": [
      "sympy_equation = parse_expr(equation)"
     ],
     "language": "python",
     "metadata": {},
     "outputs": [],
     "prompt_number": 47
    },
    {
     "cell_type": "code",
     "collapsed": false,
     "input": [
      "init_printing(use_unicode=True)\n",
      "cancel(sympy_equation)"
     ],
     "language": "python",
     "metadata": {},
     "outputs": [
      {
       "output_type": "stream",
       "stream": "stderr",
       "text": [
        "/home/szebenyib/.virtualenvs/gp/lib/python2.7/site-packages/IPython/core/formatters.py:239: FormatterWarning: Exception in image/png formatter: maximum recursion depth exceeded\n",
        "  FormatterWarning,\n"
       ]
      },
      {
       "latex": [
        "$$x^{3} + 2 x^{2} + x \\sin{\\left (x \\right )} - x \\sin{\\left (2 x + \\sin{\\left (x \\right )} - \\sin{\\left (\\sin{\\left (\\sin{\\left (x + \\sin{\\left (x \\right )} - \\sin{\\left (\\sin{\\left (\\sin{\\left (\\sin{\\left (x \\right )} + \\sin{\\left (\\sin{\\left (x \\right )} + \\sin{\\left (x + \\sin{\\left (x \\right )} - \\sin{\\left (\\sin{\\left (\\sin{\\left (x \\right )} \\right )} \\right )} \\right )} - \\sin{\\left (\\sin{\\left (\\sin{\\left (x - \\sin{\\left (\\sin{\\left (x \\right )} \\right )} + \\sin{\\left (\\sin{\\left (x + \\sin{\\left (x \\right )} - \\sin{\\left (\\sin{\\left (x \\right )} \\right )} \\right )} \\right )} \\right )} \\right )} \\right )} \\right )} - \\sin{\\left (\\sin{\\left (x \\right )} \\right )} \\right )} \\right )} \\right )} \\right )} \\right )} \\right )} \\right )} + x$$"
       ],
       "metadata": {},
       "output_type": "pyout",
       "prompt_number": 48,
       "text": [
        " 3      2                                                                     \n",
        "x  + 2\u22c5x  + x\u22c5sin(x) - x\u22c5sin(2\u22c5x + sin(x) - sin(sin(sin(x + sin(x) - sin(sin(s\n",
        "\n",
        "                                                                              \n",
        "in(sin(x) + sin(sin(x) + sin(x + sin(x) - sin(sin(sin(x)))) - sin(sin(sin(x - \n",
        "\n",
        "                                                                             \n",
        "sin(sin(x)) + sin(sin(x + sin(x) - sin(sin(x)))))))) - sin(sin(x))))))))) + x"
       ]
      }
     ],
     "prompt_number": 48
    },
    {
     "cell_type": "code",
     "collapsed": false,
     "input": [
      "init_printing(pretty_print=False)"
     ],
     "language": "python",
     "metadata": {},
     "outputs": [],
     "prompt_number": 49
    },
    {
     "cell_type": "heading",
     "level": 2,
     "metadata": {},
     "source": [
      "Visualizing results"
     ]
    },
    {
     "cell_type": "code",
     "collapsed": false,
     "input": [
      "estimated_equation = cancel(sympy_equation)\n",
      "from_to = np.linspace(-5, 5, 100, endpoint=True)\n",
      "original_equation_values = map(original_equation, from_to)\n",
      "estimated_equation_lambdified = lambdify(x, estimated_equation, \"numpy\")\n",
      "estimated_equation_values = estimated_equation_lambdified(from_to)\n",
      "\n",
      "plt.plot(from_to, original_equation_values, color=\"green\", linewidth=1.2,\n",
      "     label=\"Original equation\")\n",
      "plt.plot(from_to, estimated_equation_values, color=\"purple\", linewidth=1.2,\n",
      "     label=\"Estimated equation\")\n",
      "#fill_between(generations, minimums, maximums, color=\"green\",\n",
      "#             alpha=0.1)\n",
      "plt.legend(loc='upper center')\n",
      "plt.title('Estimated vs. original equation');"
     ],
     "language": "python",
     "metadata": {},
     "outputs": [
      {
       "metadata": {},
       "output_type": "display_data",
       "png": "[encoded data removed]",
       "text": [
        "<matplotlib.figure.Figure at 0x58d6210>"
       ]
      }
     ],
     "prompt_number": 50
    },
    {
     "cell_type": "heading",
     "level": 2,
     "metadata": {},
     "source": [
      "Saving results"
     ]
    },
    {
     "cell_type": "code",
     "collapsed": false,
     "input": [
      "len(hall_of_fame)"
     ],
     "language": "python",
     "metadata": {},
     "outputs": [
      {
       "metadata": {},
       "output_type": "pyout",
       "prompt_number": 51,
       "text": [
        "1"
       ]
      }
     ],
     "prompt_number": 51
    },
    {
     "cell_type": "markdown",
     "metadata": {},
     "source": [
      "*Todo*:\n",
      "- penalty\n",
      "- hall_of_fame\n",
      "- heatmap\n",
      "- decorator"
     ]
    },
    {
     "cell_type": "code",
     "collapsed": false,
     "input": [],
     "language": "python",
     "metadata": {},
     "outputs": [],
     "prompt_number": 21
    }
   ],
   "metadata": {}
  }
 ]
}