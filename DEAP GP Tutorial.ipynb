{
 "metadata": {
  "name": "",
  "signature": "sha256:671fad03651c733dbbb36b1917cd3ffd32281570836cf090c19af7cfd2e95ea1"
 },
 "nbformat": 3,
 "nbformat_minor": 0,
 "worksheets": [
  {
   "cells": [
    {
     "cell_type": "code",
     "collapsed": false,
     "input": [
      "%%html\n",
      "<h1 id=\"tocheading\">DEAP GP Tutorial</h1>\n",
      "<div id=\"toc\"></div>\n",
      "<script type=\"text/javascript\" src=\"ipython_notebook_toc.js\">\n",
      "<!--Use https://raw.githubusercontent.com/kmahelona/ipython_notebook_goodies/master/ipython_notebook_toc.js -->\n",
      "    "
     ],
     "language": "python",
     "metadata": {},
     "outputs": [
      {
       "html": [
        "<h1 id=\"tocheading\">DEAP GP Tutorial</h1>\n",
        "<div id=\"toc\"></div>\n",
        "<script type=\"text/javascript\" src=\"ipython_notebook_toc.js\">\n",
        "<!--Use https://raw.githubusercontent.com/kmahelona/ipython_notebook_goodies/master/ipython_notebook_toc.js -->\n",
        "    "
       ],
       "metadata": {},
       "output_type": "display_data",
       "text": [
        "<IPython.core.display.HTML at 0x7f56e8a01210>"
       ]
      }
     ],
     "prompt_number": 1
    },
    {
     "cell_type": "code",
     "collapsed": false,
     "input": [],
     "language": "python",
     "metadata": {},
     "outputs": []
    },
    {
     "cell_type": "heading",
     "level": 1,
     "metadata": {},
     "source": [
      "Imports"
     ]
    },
    {
     "cell_type": "code",
     "collapsed": false,
     "input": [
      "import math\n",
      "import operator\n",
      "import random\n",
      "import time\n",
      "\n",
      "#DEAP\n",
      "from deap import algorithms, base, creator, gp, tools\n",
      "\n",
      "#Multiprocessing\n",
      "import multiprocessing\n",
      "pool = multiprocessing.Pool()\n",
      "\n",
      "#Tree plotting\n",
      "import networkx, pydot\n",
      "from IPython.display import Image #needed to render in notebook\n",
      "\n",
      "#Sympy\n",
      "from sympy.parsing.sympy_parser import parse_expr\n",
      "from sympy import init_printing, cancel, lambdify, Symbol\n",
      "from eqn import parse_equation"
     ],
     "language": "python",
     "metadata": {},
     "outputs": [],
     "prompt_number": 2
    },
    {
     "cell_type": "heading",
     "level": 1,
     "metadata": {},
     "source": [
      "Definitions"
     ]
    },
    {
     "cell_type": "heading",
     "level": 2,
     "metadata": {},
     "source": [
      "Definition of the primitives' set"
     ]
    },
    {
     "cell_type": "code",
     "collapsed": false,
     "input": [
      "def div(left, right):\n",
      "    \"\"\"Safe division, if an error is raised it returns 0.\"\"\"\n",
      "    try:\n",
      "        return left / right\n",
      "    except ZeroDivisionError:\n",
      "        return 0\n",
      "    \n",
      "pset = gp.PrimitiveSet(\"MAIN\", 1)\n",
      "pset.addPrimitive(operator.add, 2)\n",
      "pset.addPrimitive(operator.sub, 2)\n",
      "pset.addPrimitive(operator.mul, 2)\n",
      "pset.addPrimitive(div, 2)\n",
      "pset.addPrimitive(operator.neg, 1)\n",
      "pset.addPrimitive(math.cos, 1)\n",
      "pset.addPrimitive(math.sin, 1)\n",
      "#pset.addEphemeralConstant(\"rand101\", lambda: random.randint(-1,1))\n",
      "pset.renameArguments(ARG0='x')"
     ],
     "language": "python",
     "metadata": {},
     "outputs": [],
     "prompt_number": 3
    },
    {
     "cell_type": "heading",
     "level": 2,
     "metadata": {},
     "source": [
      "Optimization target"
     ]
    },
    {
     "cell_type": "code",
     "collapsed": false,
     "input": [
      "creator.create(\"FitnessMin\",\n",
      "               base.Fitness,\n",
      "               weights=(-1.0,))"
     ],
     "language": "python",
     "metadata": {},
     "outputs": [],
     "prompt_number": 4
    },
    {
     "cell_type": "heading",
     "level": 2,
     "metadata": {},
     "source": [
      "Genome"
     ]
    },
    {
     "cell_type": "code",
     "collapsed": false,
     "input": [
      "creator.create(\"Individual\",\n",
      "               gp.PrimitiveTree,\n",
      "               fitness=creator.FitnessMin)"
     ],
     "language": "python",
     "metadata": {},
     "outputs": [],
     "prompt_number": 5
    },
    {
     "cell_type": "heading",
     "level": 2,
     "metadata": {},
     "source": [
      "Toolbox"
     ]
    },
    {
     "cell_type": "code",
     "collapsed": false,
     "input": [
      "toolbox = base.Toolbox()\n",
      "toolbox.register(\"expr\",\n",
      "                 gp.genHalfAndHalf,\n",
      "                 pset=pset,\n",
      "                 min_=1,\n",
      "                 max_=2)\n",
      "toolbox.register(\"individual\",\n",
      "                 tools.initIterate,\n",
      "                 creator.Individual,\n",
      "                 toolbox.expr)\n",
      "toolbox.register(\"population\",\n",
      "                 tools.initRepeat,\n",
      "                 list,\n",
      "                 toolbox.individual)\n",
      "toolbox.register(\"compile\",\n",
      "                 gp.compile,\n",
      "                 pset=pset)\n",
      "#toolbox.register(\"map\", pool.map)"
     ],
     "language": "python",
     "metadata": {},
     "outputs": [],
     "prompt_number": 6
    },
    {
     "cell_type": "heading",
     "level": 2,
     "metadata": {},
     "source": [
      "Statistics"
     ]
    },
    {
     "cell_type": "code",
     "collapsed": false,
     "input": [
      "stats_fit = tools.Statistics(key=lambda ind: ind.fitness.values)\n",
      "stats_size = tools.Statistics(key=len)\n",
      "mstats = tools.MultiStatistics(fitness=stats_fit, size=stats_size)\n",
      "mstats.register(\"avg\", numpy.mean)\n",
      "mstats.register(\"std\", numpy.std)\n",
      "mstats.register(\"min\", numpy.min)\n",
      "mstats.register(\"max\", numpy.max)"
     ],
     "language": "python",
     "metadata": {},
     "outputs": [],
     "prompt_number": 7
    },
    {
     "cell_type": "heading",
     "level": 2,
     "metadata": {},
     "source": [
      "Evaluation function"
     ]
    },
    {
     "cell_type": "code",
     "collapsed": false,
     "input": [
      "def evalSymbReg(individual, points):\n",
      "    #Transform the tree expression in a callable\n",
      "    func = toolbox.compile(expr=individual)\n",
      "    #Evaluate the mse between the expression and the original function\n",
      "    sqerrors = ((func(x) - x**4 - x**3 - x**2 - x)**2 for x in points)\n",
      "    return math.fsum(sqerrors) / len(points),\n",
      "\n",
      "#Define the original equation here\n",
      "def original_equation(x):\n",
      "     return x**4 + x**3 + x**2 + x"
     ],
     "language": "python",
     "metadata": {},
     "outputs": [],
     "prompt_number": 46
    },
    {
     "cell_type": "heading",
     "level": 2,
     "metadata": {},
     "source": [
      "Genetic Operators and their default arguments"
     ]
    },
    {
     "cell_type": "code",
     "collapsed": false,
     "input": [
      "toolbox.register(\"evaluate\", evalSymbReg,\n",
      "                 points=[x/10. for x in range(-10,10)])\n",
      "toolbox.register(\"mate\", gp.cxOnePoint)\n",
      "toolbox.register(\"select\", tools.selTournament, tournsize=3)\n",
      "toolbox.register(\"expr_mut\", gp.genFull, min_=0, max_=2)\n",
      "toolbox.register(\"mutate\", gp.mutUniform, \n",
      "                 expr=toolbox.expr_mut, pset=pset)"
     ],
     "language": "python",
     "metadata": {},
     "outputs": [],
     "prompt_number": 9
    },
    {
     "cell_type": "heading",
     "level": 1,
     "metadata": {},
     "source": [
      "Evolution"
     ]
    },
    {
     "cell_type": "code",
     "collapsed": false,
     "input": [
      "def main():\n",
      "    #Settings\n",
      "    random.seed(64)\n",
      "    ##CXPB, MUTPB, NGEN = 0.5, 0.2, 40\n",
      "    #Create population\n",
      "    population = toolbox.population(n=400)\n",
      "    #Store best individuals in the hall of fame\n",
      "    hof = tools.HallOfFame(1)\n",
      "    #Evaluate the created population\n",
      "    ##fitnesses = list(map(toolbox.evaluate, pop))\n",
      "    ##for ind, fit in zip(pop, fitnesses):\n",
      "    ##    ind.fitness.values=fit\n",
      "    #Statistics\n",
      "    start = time.time()\n",
      "    \n",
      "    #Evolution\n",
      "    population, logbook = algorithms.eaSimple(population,\n",
      "                                   toolbox,\n",
      "                                   0.3,\n",
      "                                   0.1,\n",
      "                                   50,\n",
      "                                   stats=mstats,\n",
      "                                   halloffame=hof,\n",
      "                                   verbose=True)\n",
      "    \n",
      "    #Info on the evolution\n",
      "    end = time.time()\n",
      "    print(\"Evolution execution time: %3.3f\" % (end-start))\n",
      "    best_ind = tools.selBest(population, 1)[0] \n",
      "    print(\"Best individual is %s, %s\" % (best_ind,\n",
      "                                     best_ind.fitness.values))   \n",
      "    return population, logbook, hof, best_ind"
     ],
     "language": "python",
     "metadata": {},
     "outputs": [],
     "prompt_number": 13
    },
    {
     "cell_type": "code",
     "collapsed": false,
     "input": [
      "if __name__ == \"__main__\":\n",
      "    population, logbook, hof, best_ind = main()"
     ],
     "language": "python",
     "metadata": {},
     "outputs": [
      {
       "output_type": "stream",
       "stream": "stdout",
       "text": [
        "   \t      \t                fitness                \t              size             \n",
        "   \t      \t---------------------------------------\t-------------------------------\n",
        "gen\tnevals\tavg    \tmax    \tmin     \tstd    \tavg  \tmax\tmin\tstd    \n",
        "0  \t400   \t4.36724\t1080.72\t0.200869\t53.9356\t3.745\t7  \t2  \t1.54595\n",
        "1  \t129   \t0.87723\t15.0047\t0.165572\t0.802272\t3.77 \t12 \t1  \t1.69915\n",
        "2  \t131   \t0.694098\t4.19956\t0.165572\t0.373523\t3.72 \t10 \t1  \t1.82664"
       ]
      },
      {
       "output_type": "stream",
       "stream": "stdout",
       "text": [
        "\n",
        "3  \t167   \t0.7156  \t17.5706\t0.165572\t0.930664\t3.945\t12 \t1  \t2.0957 \n",
        "4  \t127   \t0.569237\t4.4729 \t0.143501\t0.355507\t4.81 \t14 \t1  \t2.07579"
       ]
      },
      {
       "output_type": "stream",
       "stream": "stdout",
       "text": [
        "\n",
        "5  \t136   \t0.516472\t2.49124\t0.143501\t0.347248\t5.825\t13 \t1  \t1.81779\n",
        "6  \t136   \t0.464758\t15.2735\t0.139438\t0.801341\t6.25 \t14 \t1  \t1.91377"
       ]
      },
      {
       "output_type": "stream",
       "stream": "stdout",
       "text": [
        "\n",
        "7  \t151   \t0.367529\t5.18075\t0.117731\t0.437022\t6.1575\t15 \t1  \t1.85949\n",
        "8  \t149   \t0.288264\t2.11889\t0.0827899\t0.279985\t6.4025\t16 \t1  \t1.91324"
       ]
      },
      {
       "output_type": "stream",
       "stream": "stdout",
       "text": [
        "\n",
        "9  \t149   \t0.228409\t2.49124\t0.0827899\t0.234813\t7.1175\t16 \t1  \t2.06366\n",
        "10 \t155   \t0.23988 \t2.11889\t0.0253803\t0.280705\t8.0725\t19 \t2  \t2.15343"
       ]
      },
      {
       "output_type": "stream",
       "stream": "stdout",
       "text": [
        "\n",
        "11 \t141   \t0.223625\t2.3179 \t0.0253803\t0.279971\t8.795 \t17 \t1  \t2.40166\n",
        "12 \t150   \t0.235495\t1.96389\t0.0186552\t0.296304\t9.9725\t19 \t1  \t2.83492"
       ]
      },
      {
       "output_type": "stream",
       "stream": "stdout",
       "text": [
        "\n",
        "13 \t133   \t0.195224\t2.3179 \t0.0186552\t0.266937\t11.015\t22 \t1  \t3.07405"
       ]
      },
      {
       "output_type": "stream",
       "stream": "stdout",
       "text": [
        "\n",
        "14 \t153   \t0.235616\t3.51394\t0.0186552\t0.392692\t12.0325\t24 \t1  \t3.40902\n",
        "15 \t148   \t0.385821\t61.2181\t0.0186552\t3.09126 \t13.17  \t24 \t1  \t3.12107"
       ]
      },
      {
       "output_type": "stream",
       "stream": "stdout",
       "text": [
        "\n",
        "16 \t168   \t0.194828\t2.9329 \t0.0172743\t0.368327\t12.955 \t25 \t1  \t3.57812"
       ]
      },
      {
       "output_type": "stream",
       "stream": "stdout",
       "text": [
        "\n",
        "17 \t144   \t0.198003\t5.74801\t0.0172743\t0.436822\t12.925 \t25 \t1  \t3.39402\n",
        "18 \t164   \t0.187344\t3.51394\t0.0172743\t0.431321\t12.8275\t27 \t1  \t3.39452"
       ]
      },
      {
       "output_type": "stream",
       "stream": "stdout",
       "text": [
        "\n",
        "19 \t131   \t0.178914\t6.20995\t0.0172743\t0.494918\t12.7075\t28 \t2  \t3.42446\n",
        "20 \t135   \t0.162241\t7.56817\t0.0172743\t0.498137\t12.8525\t36 \t3  \t3.5827 "
       ]
      },
      {
       "output_type": "stream",
       "stream": "stdout",
       "text": [
        "\n",
        "21 \t134   \t0.159103\t4.147  \t0.0154398\t0.462306\t13.605 \t30 \t1  \t4.13932"
       ]
      },
      {
       "output_type": "stream",
       "stream": "stdout",
       "text": [
        "\n",
        "22 \t145   \t0.228657\t9.58708\t0.00205868\t0.678247\t15.01  \t28 \t1  \t4.47492"
       ]
      },
      {
       "output_type": "stream",
       "stream": "stdout",
       "text": [
        "\n",
        "23 \t129   \t0.132807\t3.51394\t0.00205868\t0.326712\t16.69  \t35 \t1  \t4.40272"
       ]
      },
      {
       "output_type": "stream",
       "stream": "stdout",
       "text": [
        "\n",
        "24 \t169   \t0.221078\t8.42752\t0.00205868\t0.738429\t18.0525\t35 \t3  \t3.79668"
       ]
      },
      {
       "output_type": "stream",
       "stream": "stdout",
       "text": [
        "\n",
        "25 \t145   \t0.188568\t7.5417 \t0.00205868\t0.61286 \t18.465 \t35 \t3  \t3.32171"
       ]
      },
      {
       "output_type": "stream",
       "stream": "stdout",
       "text": [
        "\n",
        "26 \t174   \t0.352021\t10.1592\t0.00205868\t1.13427 \t17.9625\t35 \t2  \t4.29489"
       ]
      },
      {
       "output_type": "stream",
       "stream": "stdout",
       "text": [
        "\n",
        "27 \t127   \t0.154166\t4.147  \t0.00205868\t0.488481\t17.7325\t35 \t3  \t4.33485"
       ]
      },
      {
       "output_type": "stream",
       "stream": "stdout",
       "text": [
        "\n",
        "28 \t167   \t0.213026\t3.86678\t0.00161262\t0.511591\t17.2775\t38 \t1  \t5.20101"
       ]
      },
      {
       "output_type": "stream",
       "stream": "stdout",
       "text": [
        "\n",
        "29 \t137   \t0.218631\t7.5417 \t0.00205868\t0.698722\t17.565 \t36 \t1  \t5.5232 "
       ]
      },
      {
       "output_type": "stream",
       "stream": "stdout",
       "text": [
        "\n",
        "30 \t148   \t0.274961\t12.3678\t0.00205868\t0.986035\t19.1025\t38 \t1  \t5.61044"
       ]
      },
      {
       "output_type": "stream",
       "stream": "stdout",
       "text": [
        "\n",
        "31 \t128   \t0.172442\t4.32382\t0.00205868\t0.518456\t19.3575\t43 \t2  \t5.04824"
       ]
      },
      {
       "output_type": "stream",
       "stream": "stdout",
       "text": [
        "\n",
        "32 \t125   \t0.127387\t3.05409\t0.00205868\t0.334186\t18.8975\t39 \t3  \t4.65102"
       ]
      },
      {
       "output_type": "stream",
       "stream": "stdout",
       "text": [
        "\n",
        "33 \t152   \t0.167228\t15.6654\t0.00161262\t0.833112\t18.6425\t38 \t1  \t4.28015"
       ]
      },
      {
       "output_type": "stream",
       "stream": "stdout",
       "text": [
        "\n",
        "34 \t151   \t0.0893308\t2.58258\t0.00161262\t0.267308\t18.845 \t35 \t1  \t3.79091"
       ]
      },
      {
       "output_type": "stream",
       "stream": "stdout",
       "text": [
        "\n",
        "35 \t168   \t0.15796  \t2.11889\t0.00161262\t0.358054\t18.7575\t35 \t3  \t5.17578"
       ]
      },
      {
       "output_type": "stream",
       "stream": "stdout",
       "text": [
        "\n",
        "36 \t138   \t0.122445 \t2.88173\t0.00161262\t0.353347\t18.7425\t36 \t2  \t3.56036"
       ]
      },
      {
       "output_type": "stream",
       "stream": "stdout",
       "text": [
        "\n",
        "37 \t134   \t0.123574 \t3.19915\t0.00161262\t0.34393 \t18.9125\t36 \t1  \t4.08777"
       ]
      },
      {
       "output_type": "stream",
       "stream": "stdout",
       "text": [
        "\n",
        "38 \t139   \t0.159187 \t5.4573 \t0.00161262\t0.482093\t18.9   \t36 \t1  \t4.47381"
       ]
      },
      {
       "output_type": "stream",
       "stream": "stdout",
       "text": [
        "\n",
        "39 \t157   \t0.181188 \t3.89765\t0.000960614\t0.429957\t19.24  \t39 \t2  \t5.15096"
       ]
      },
      {
       "output_type": "stream",
       "stream": "stdout",
       "text": [
        "\n",
        "40 \t151   \t0.121582 \t3.34048\t0.000290511\t0.327884\t19.555 \t40 \t1  \t5.33076"
       ]
      },
      {
       "output_type": "stream",
       "stream": "stdout",
       "text": [
        "\n",
        "41 \t151   \t0.119999 \t3.02754\t0.000290511\t0.329472\t19.565 \t37 \t1  \t4.78548"
       ]
      },
      {
       "output_type": "stream",
       "stream": "stdout",
       "text": [
        "\n",
        "42 \t140   \t0.134577 \t7.55897\t0.000290511\t0.48377 \t19.625 \t37 \t3  \t4.2976 "
       ]
      },
      {
       "output_type": "stream",
       "stream": "stdout",
       "text": [
        "\n",
        "43 \t164   \t0.120994 \t2.65914\t0.000290511\t0.350378\t19.8975\t37 \t2  \t3.77319"
       ]
      },
      {
       "output_type": "stream",
       "stream": "stdout",
       "text": [
        "\n",
        "44 \t149   \t0.119571 \t2.03949\t0.000290511\t0.285572\t19.82  \t40 \t3  \t4.35461"
       ]
      },
      {
       "output_type": "stream",
       "stream": "stdout",
       "text": [
        "\n",
        "45 \t155   \t0.153133 \t4.4577 \t0.000290511\t0.427786\t19.745 \t37 \t1  \t4.84613"
       ]
      },
      {
       "output_type": "stream",
       "stream": "stdout",
       "text": [
        "\n",
        "46 \t129   \t0.0924466\t2.22745\t0.000290511\t0.246767\t20.05  \t39 \t3  \t4.48135"
       ]
      },
      {
       "output_type": "stream",
       "stream": "stdout",
       "text": [
        "\n",
        "47 \t160   \t0.136399 \t2.73469\t0.000290511\t0.343359\t20.0475\t37 \t3  \t4.45199"
       ]
      },
      {
       "output_type": "stream",
       "stream": "stdout",
       "text": [
        "\n",
        "48 \t130   \t0.0806455\t1.94939\t0.000290511\t0.227046\t19.78  \t40 \t1  \t4.24401"
       ]
      },
      {
       "output_type": "stream",
       "stream": "stdout",
       "text": [
        "\n",
        "49 \t134   \t0.0921291\t2.11889\t0.000290511\t0.25441 \t19.8625\t37 \t1  \t5.07283"
       ]
      },
      {
       "output_type": "stream",
       "stream": "stdout",
       "text": [
        "\n",
        "50 \t143   \t0.130608 \t13.5353\t0.000290511\t0.734825\t19.685 \t37 \t1  \t5.027  "
       ]
      },
      {
       "output_type": "stream",
       "stream": "stdout",
       "text": [
        "\n",
        "Evolution execution time: 2.844\n",
        "Best individual is add(x, mul(add(mul(x, x), add(add(add(sin(x), x), neg(sin(add(x, x)))), x)), x)), (0.00029051116616083474,)\n"
       ]
      }
     ],
     "prompt_number": 14
    },
    {
     "cell_type": "heading",
     "level": 1,
     "metadata": {},
     "source": [
      "Plots"
     ]
    },
    {
     "cell_type": "heading",
     "level": 2,
     "metadata": {},
     "source": [
      "Plotting generation performance"
     ]
    },
    {
     "cell_type": "code",
     "collapsed": false,
     "input": [
      "generations = np.array(logbook.select(\"gen\"))\n",
      "fitness_minimums = np.array(logbook.chapters['fitness'].select(\"min\"))\n",
      "fitness_maximums = np.array(logbook.chapters['fitness'].select(\"max\"))\n",
      "fitness_averages = np.array(logbook.chapters['fitness'].select(\"avg\"))\n",
      "fitness_yerr_min = fitness_averages-fitness_minimums\n",
      "fitness_yerr_max = fitness_maximums-fitness_averages\n",
      "\n",
      "plt.plot(generations, fitness_minimums, color=\"blue\", linewidth=1.2,\n",
      "     label=\"Raw minimum\")\n",
      "plt.plot(generations, fitness_maximums, color=\"red\", linewidth=1.2,\n",
      "     label=\"Raw maximum\")\n",
      "#plt.fill_between(generations, minimums, maximums, color=\"green\",\n",
      "#             alpha=0.1)\n",
      "plt.errorbar(generations, fitness_averages, [fitness_yerr_min, fitness_yerr_max],\n",
      "         color=\"green\", alpha=0.5, linewidth=1.2,\n",
      "         label=\"Range\")\n",
      "\n",
      "plt.xlim(0, len(generations) - 1)\n",
      "plt.ylim(min(fitness_minimums)-5, max(fitness_maximums)+5)\n",
      "plt.legend(loc='lower right')\n",
      "plt.xlabel('Generations')\n",
      "plt.ylabel('Score')\n",
      "plt.title('Raw score evolution over time');"
     ],
     "language": "python",
     "metadata": {},
     "outputs": [
      {
       "metadata": {},
       "output_type": "display_data",
       "png": "[encoded data removed]",
       "text": [
        "<matplotlib.figure.Figure at 0x7f56ddab6390>"
       ]
      }
     ],
     "prompt_number": 45
    },
    {
     "cell_type": "heading",
     "level": 2,
     "metadata": {},
     "source": [
      "Plotting of... set here"
     ]
    },
    {
     "cell_type": "code",
     "collapsed": false,
     "input": [
      "individual = best_ind"
     ],
     "language": "python",
     "metadata": {},
     "outputs": [],
     "prompt_number": 33
    },
    {
     "cell_type": "heading",
     "level": 2,
     "metadata": {},
     "source": [
      "Plotting the GP tree"
     ]
    },
    {
     "cell_type": "code",
     "collapsed": false,
     "input": [
      "nodes, edges, labels = gp.graph(individual)\n",
      "graph = networkx.Graph()\n",
      "graph.add_nodes_from(nodes)\n",
      "graph.add_edges_from(edges)\n",
      "pos = networkx.graphviz_layout(graph, prog=\"dot\")\n",
      "\n",
      "plt.figure(figsize=(14,24))\n",
      "networkx.draw_networkx_nodes(graph, pos, node_size=900, node_color=\"w\")\n",
      "networkx.draw_networkx_edges(graph, pos)\n",
      "networkx.draw_networkx_labels(graph, pos, labels)\n",
      "plt.axis(\"off\")\n",
      "plt.show()"
     ],
     "language": "python",
     "metadata": {},
     "outputs": [
      {
       "metadata": {},
       "output_type": "display_data",
       "png": "[encoded data removed]",
       "text": [
        "<matplotlib.figure.Figure at 0x7f56dd926250>"
       ]
      }
     ],
     "prompt_number": 34
    },
    {
     "cell_type": "heading",
     "level": 2,
     "metadata": {},
     "source": [
      "The simplified equation"
     ]
    },
    {
     "cell_type": "code",
     "collapsed": false,
     "input": [
      "x = Symbol('x')\n",
      "equation = parse_equation(str(individual))\n",
      "print equation"
     ],
     "language": "python",
     "metadata": {},
     "outputs": [
      {
       "output_type": "stream",
       "stream": "stdout",
       "text": [
        "(x+(((x*x)+(((sin(x)+x)+(-sin((x+x))))+x))*x))\n"
       ]
      }
     ],
     "prompt_number": 35
    },
    {
     "cell_type": "code",
     "collapsed": false,
     "input": [
      "sympy_equation = parse_expr(equation)"
     ],
     "language": "python",
     "metadata": {},
     "outputs": [],
     "prompt_number": 36
    },
    {
     "cell_type": "code",
     "collapsed": false,
     "input": [
      "init_printing(use_unicode=True)\n",
      "cancel(sympy_equation)"
     ],
     "language": "python",
     "metadata": {},
     "outputs": [
      {
       "latex": [
        "$$x^{3} + 2 x^{2} + x \\sin{\\left (x \\right )} - x \\sin{\\left (2 x \\right )} + x$$"
       ],
       "metadata": {},
       "output_type": "pyout",
       "png": "[encoded data removed]",
       "prompt_number": 37,
       "text": [
        " 3      2                            \n",
        "x  + 2\u22c5x  + x\u22c5sin(x) - x\u22c5sin(2\u22c5x) + x"
       ]
      }
     ],
     "prompt_number": 37
    },
    {
     "cell_type": "code",
     "collapsed": false,
     "input": [
      "init_printing(pretty_print=False)"
     ],
     "language": "python",
     "metadata": {},
     "outputs": [],
     "prompt_number": 38
    },
    {
     "cell_type": "heading",
     "level": 2,
     "metadata": {},
     "source": [
      "Visualizing results"
     ]
    },
    {
     "cell_type": "code",
     "collapsed": false,
     "input": [
      "estimated_equation = cancel(sympy_equation)\n",
      "from_to = np.linspace(-5, 5, 100, endpoint = True)\n",
      "original_equation_values = map(original_equation, from_to)\n",
      "estimated_equation_lambdified = lambdify(x, estimated_equation, \"numpy\")\n",
      "estimated_equation_values = estimated_equation_lambdified(from_to)\n",
      "\n",
      "plt.plot(from_to, original_equation_values, color=\"green\", linewidth=1.2,\n",
      "     label=\"Original equation\")\n",
      "plt.plot(from_to, estimated_equation_values, color=\"purple\", linewidth=1.2,\n",
      "     label=\"Estimated equation\")\n",
      "#fill_between(generations, minimums, maximums, color=\"green\",\n",
      "#             alpha=0.1)\n",
      "plt.legend(loc='upper center')\n",
      "plt.title('Estimated vs. original equation');"
     ],
     "language": "python",
     "metadata": {},
     "outputs": [
      {
       "metadata": {},
       "output_type": "display_data",
       "png": "[encoded data removed]",
       "text": [
        "<matplotlib.figure.Figure at 0x7f56dd4d5910>"
       ]
      }
     ],
     "prompt_number": 43
    },
    {
     "cell_type": "code",
     "collapsed": false,
     "input": [],
     "language": "python",
     "metadata": {},
     "outputs": []
    }
   ],
   "metadata": {}
  }
 ]
}