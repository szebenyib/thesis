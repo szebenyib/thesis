{
 "metadata": {
  "name": "",
  "signature": "sha256:32fd23abc6558838a6bea8d4de2d38608fb03d9cb38fc1d6f0812d205b92c471"
 },
 "nbformat": 3,
 "nbformat_minor": 0,
 "worksheets": [
  {
   "cells": [
    {
     "cell_type": "markdown",
     "metadata": {},
     "source": [
      "Importing necessary modules"
     ]
    },
    {
     "cell_type": "code",
     "collapsed": false,
     "input": [
      "from pyevolve import Util, GTree, GSimpleGA, Consts\n",
      "import math"
     ],
     "language": "python",
     "metadata": {},
     "outputs": [],
     "prompt_number": 1
    },
    {
     "cell_type": "code",
     "collapsed": false,
     "input": [
      "rmse_accum = Util.ErrorAccumulator()"
     ],
     "language": "python",
     "metadata": {},
     "outputs": [],
     "prompt_number": 2
    },
    {
     "cell_type": "markdown",
     "metadata": {},
     "source": [
      "Define some GP operators, gp prefix ensures that Pyevolve automatically add them as non-terminals of the GP core."
     ]
    },
    {
     "cell_type": "code",
     "collapsed": false,
     "input": [
      "def gp_add(a, b): return a+b\n",
      "def gp_sub(a, b): return a-b\n",
      "def gp_mul(a, b): return a*b\n",
      "def gp_sqrt(a): return math.sqrt(abs(a))"
     ],
     "language": "python",
     "metadata": {},
     "outputs": [],
     "prompt_number": 3
    },
    {
     "cell_type": "markdown",
     "metadata": {},
     "source": [
      "Evalutaion function"
     ]
    },
    {
     "cell_type": "code",
     "collapsed": false,
     "input": [
      "def eval_func(chromosome):\n",
      "    global rmse_accum #Reset it for every individual\n",
      "    rmse_accum.reset()\n",
      "    \"\"\" To avoid to have to parse the tree we compile into bytecode. \"\"\"\n",
      "    code_comp = chromosome.getCompiledCode() \n",
      "    \n",
      "    for a in xrange(0,5):\n",
      "        for b in xrange(0,5):\n",
      "            evaluated = eval(code_comp)\n",
      "            target = math.sqrt((a*a)+(b*b)) #Variables name same as terminals\n",
      "            rmse_accum += (target, evaluated)\n",
      "            \n",
      "    return rmse_accum.getRMSE()"
     ],
     "language": "python",
     "metadata": {},
     "outputs": [],
     "prompt_number": 4
    },
    {
     "cell_type": "code",
     "collapsed": false,
     "input": [
      "def step_callback(gp_engine):\n",
      "    if gp_engine.getCurrentGeneration() == 49:\n",
      "        GTree.GTreeGP.writePopulationDot(gp_engine, \"trees.jpg\", start=0, end=3)"
     ],
     "language": "python",
     "metadata": {},
     "outputs": [],
     "prompt_number": 5
    },
    {
     "cell_type": "code",
     "collapsed": false,
     "input": [
      "def main_run():\n",
      "    genome = GTree.GTreeGP()\n",
      "    \"\"\" Method means initialization method, could be grow-full-ramped \"\"\"\n",
      "    genome.setParams(max_depth = 4, method = \"ramped\")\n",
      "    genome.evaluator.set(eval_func)\n",
      "    \n",
      "    \"\"\" Instantiating GSimpleGA and setting parameters \"\"\"\n",
      "    ga = GSimpleGA.GSimpleGA(genome)\n",
      "    ga.setParams(gp_terminals = ['a', 'b'], #Variables, same as in eval_func()\n",
      "                 gp_function_prefix = \"gp\") #Non-terminals, operators\n",
      "    \n",
      "    \"\"\" Visualization \"\"\"\n",
      "    ga.stepCallback.set(step_callback)\n",
      "    \n",
      "    \"\"\" Same that we would see in genetic algorithms \"\"\"\n",
      "    ga.setMinimax(Consts.minimaxType[\"minimize\"])\n",
      "    ga.setGenerations(50)\n",
      "    ga.setCrossoverRate(1.0)\n",
      "    ga.setMutationRate(0.25)\n",
      "    ga.setPopulationSize(800)\n",
      "    \n",
      "    ga(freq_stats=10)\n",
      "    best = ga.bestIndividual()\n",
      "    print best\n",
      "    \n",
      "    "
     ],
     "language": "python",
     "metadata": {},
     "outputs": [],
     "prompt_number": 6
    },
    {
     "cell_type": "markdown",
     "metadata": {},
     "source": [
      "Taking care of scripting side run. Not needed here, but for multiprocessing this is a must have."
     ]
    },
    {
     "cell_type": "code",
     "collapsed": false,
     "input": [
      "if __name__ == \"__main__\":\n",
      "    main_run()"
     ],
     "language": "python",
     "metadata": {},
     "outputs": [
      {
       "output_type": "stream",
       "stream": "stdout",
       "text": [
        "Gen. 0 (0.00%):"
       ]
      },
      {
       "output_type": "stream",
       "stream": "stdout",
       "text": [
        " Max/Min/Avg Fitness(Raw) [129.91(32799.79)/108.19(0.52)/108.26(108.26)]\n",
        "Gen. 10 (20.00%):"
       ]
      },
      {
       "output_type": "stream",
       "stream": "stdout",
       "text": [
        " Max/Min/Avg Fitness(Raw) [6.49(975.93)/5.40(0.00)/5.41(5.41)]\n",
        "Gen. 20 (40.00%):"
       ]
      },
      {
       "output_type": "stream",
       "stream": "stdout",
       "text": [
        " Max/Min/Avg Fitness(Raw) [6.98(1979.27)/5.82(0.00)/5.82(5.82)]\n",
        "Gen. 30 (60.00%):"
       ]
      },
      {
       "output_type": "stream",
       "stream": "stdout",
       "text": [
        " Max/Min/Avg Fitness(Raw) [3.69(106.89)/3.05(0.00)/3.07(3.07)]\n",
        "Gen. 40 (80.00%):"
       ]
      },
      {
       "output_type": "stream",
       "stream": "stdout",
       "text": [
        " Max/Min/Avg Fitness(Raw) [5.31(445.32)/4.41(0.00)/4.42(4.42)]\n",
        "Gen. 50 (100.00%):"
       ]
      },
      {
       "output_type": "stream",
       "stream": "stdout",
       "text": [
        " Max/Min/Avg Fitness(Raw) [10.52(3960.13)/8.76(0.00)/8.76(8.76)]\n",
        "Total time elapsed: 33.162 seconds.\n",
        "- GenomeBase\n",
        "\tScore:\t\t\t 0.000000\n",
        "\tFitness:\t\t 8.758728\n",
        "\n",
        "\tParams:\t\t {'max_depth': 4, 'method': 'ramped'}\n",
        "\n",
        "\tSlot [Evaluator] (Count: 1)\n",
        "\t\tName: eval_func - Weight: 0.50\n",
        "\tSlot [Initializator] (Count: 1)\n",
        "\t\tName: GTreeGPInitializator - Weight: 0.50\n",
        "\t\tDoc: This initializator accepts the follow parameters:\n",
        "      \n",
        "   *max_depth*\n",
        "      The max depth of the tree\n",
        "\n",
        "   *method*\n",
        "      The method, accepts \"grow\", \"full\" or \"ramped\"\n",
        "\n",
        "   .. versionadded:: 0.6\n",
        "      The *GTreeGPInitializator* function.\n",
        "   \n",
        "\tSlot [Mutator] (Count: 1)\n",
        "\t\tName: GTreeGPMutatorSubtree - Weight: 0.50\n",
        "\t\tDoc:  The mutator of GTreeGP, Subtree Mutator\n",
        "\n",
        "   This mutator will recreate random subtree of the tree using the grow algorithm.\n",
        "   \n",
        "   .. versionadded:: 0.6\n",
        "      The *GTreeGPMutatorSubtree* function\n",
        "   \n",
        "\tSlot [Crossover] (Count: 1)\n",
        "\t\tName: GTreeGPCrossoverSinglePoint - Weight: 0.50\n",
        "\t\tDoc:  The crossover of the GTreeGP, Single Point for Genetic Programming\n",
        "\n",
        "   ..note:: This crossover method creates offspring with restriction of the\n",
        "            *max_depth* parameter.\n",
        "   \n",
        "   Accepts the *max_attempt* parameter, *max_depth* (required).   \n",
        "   \n",
        "\n",
        "- GTree\n",
        "\tHeight:\t\t\t3\n",
        "\tNodes:\t\t\t8\n",
        "\n",
        "GTreeNodeBase [Childs=1] - [gp_sqrt]\n",
        "  GTreeNodeBase [Childs=2] - [gp_add]\n",
        "    GTreeNodeBase [Childs=2] - [gp_mul]\n",
        "      GTreeNodeBase [Childs=0] - [b]\n",
        "      GTreeNodeBase [Childs=0] - [b]\n",
        "    GTreeNodeBase [Childs=2] - [gp_mul]\n",
        "      GTreeNodeBase [Childs=0] - [a]\n",
        "      GTreeNodeBase [Childs=0] - [a]\n",
        "\n",
        "- GTreeGP\n",
        "\tExpression: gp_sqrt(gp_add(gp_mul(b, b), gp_mul(a, a)))\n",
        "\n"
       ]
      }
     ],
     "prompt_number": 7
    },
    {
     "cell_type": "code",
     "collapsed": false,
     "input": [],
     "language": "python",
     "metadata": {},
     "outputs": []
    }
   ],
   "metadata": {}
  }
 ]
}