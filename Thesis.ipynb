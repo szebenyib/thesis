{
 "metadata": {
  "name": "",
  "signature": "sha256:b24f4e4ee4ea70a855ae69eae47e39070710dc0f0602ae2f72849b068db01068"
 },
 "nbformat": 3,
 "nbformat_minor": 0,
 "worksheets": [
  {
   "cells": [
    {
     "cell_type": "code",
     "collapsed": false,
     "input": [
      "%%html\n",
      "<h1 id=\"tocheading\">Thesis</h1>\n",
      "<div id=\"toc\"></div>\n",
      "<!--<script type=\"text/javascript\" src=\"ipython_notebook_toc.js\">-->\n",
      "<script type=\"text/javascript\" src=\"https://raw.githubusercontent.com/kmahelona/ipython_notebook_goodies/master/ipython_notebook_toc.js\">\n"
     ],
     "language": "python",
     "metadata": {},
     "outputs": [
      {
       "html": [
        "<h1 id=\"tocheading\">Thesis</h1>\n",
        "<div id=\"toc\"></div>\n",
        "<!--<script type=\"text/javascript\" src=\"ipython_notebook_toc.js\">-->\n",
        "<script type=\"text/javascript\" src=\"https://raw.githubusercontent.com/kmahelona/ipython_notebook_goodies/master/ipython_notebook_toc.js\">"
       ],
       "metadata": {},
       "output_type": "display_data",
       "text": [
        "<IPython.core.display.HTML at 0x34d71d0>"
       ]
      }
     ],
     "prompt_number": 1
    },
    {
     "cell_type": "heading",
     "level": 1,
     "metadata": {},
     "source": [
      "Imports"
     ]
    },
    {
     "cell_type": "code",
     "collapsed": false,
     "input": [
      "import math\n",
      "import operator\n",
      "import random\n",
      "import time\n",
      "import os\n",
      "import sys\n",
      "\n",
      "#DEAP\n",
      "from deap import algorithms, base, creator, gp, tools\n",
      "\n",
      "#Loading data\n",
      "from pandas import DataFrame, read_csv\n",
      "\n",
      "#Saving evolution settings\n",
      "from fitnessmatrix import FitnessMatrix\n",
      "from evosettings import Evo\n",
      "\n",
      "#Multiprocessing\n",
      "import multiprocessing\n",
      "pool = multiprocessing.Pool()\n",
      "\n",
      "#Tree plotting\n",
      "import pygraphviz as pgv\n",
      "from IPython.display import Image #needed to render in notebook\n",
      "\n",
      "#Checkpointing, saving\n",
      "import pickle\n",
      "\n",
      "#Sympy\n",
      "from sympy.parsing.sympy_parser import parse_expr\n",
      "from sympy import init_printing, cancel, lambdify, Symbol\n",
      "from eqn import EquationParser"
     ],
     "language": "python",
     "metadata": {},
     "outputs": [],
     "prompt_number": 2
    },
    {
     "cell_type": "heading",
     "level": 1,
     "metadata": {},
     "source": [
      "Reading Data"
     ]
    },
    {
     "cell_type": "markdown",
     "metadata": {},
     "source": [
      "Reading data and displaying it"
     ]
    },
    {
     "cell_type": "code",
     "collapsed": false,
     "input": [
      "companies = read_csv(r'sampleData.csv', sep=';')\n",
      "companies[0:1]"
     ],
     "language": "python",
     "metadata": {},
     "outputs": [
      {
       "html": [
        "<div style=\"max-height:1000px;max-width:1500px;overflow:auto;\">\n",
        "<table border=\"1\" class=\"dataframe\">\n",
        "  <thead>\n",
        "    <tr style=\"text-align: right;\">\n",
        "      <th></th>\n",
        "      <th>profit</th>\n",
        "      <th>debt</th>\n",
        "      <th>bankrupt</th>\n",
        "    </tr>\n",
        "  </thead>\n",
        "  <tbody>\n",
        "    <tr>\n",
        "      <th>0</th>\n",
        "      <td>-4</td>\n",
        "      <td> 2</td>\n",
        "      <td> 1</td>\n",
        "    </tr>\n",
        "  </tbody>\n",
        "</table>\n",
        "<p>1 rows \u00d7 3 columns</p>\n",
        "</div>"
       ],
       "metadata": {},
       "output_type": "pyout",
       "prompt_number": 3,
       "text": [
        "   profit  debt  bankrupt\n",
        "0      -4     2         1\n",
        "\n",
        "[1 rows x 3 columns]"
       ]
      }
     ],
     "prompt_number": 3
    },
    {
     "cell_type": "code",
     "collapsed": false,
     "input": [
      "companies.dtypes"
     ],
     "language": "python",
     "metadata": {},
     "outputs": [
      {
       "metadata": {},
       "output_type": "pyout",
       "prompt_number": 4,
       "text": [
        "profit      int64\n",
        "debt        int64\n",
        "bankrupt    int64\n",
        "dtype: object"
       ]
      }
     ],
     "prompt_number": 4
    },
    {
     "cell_type": "code",
     "collapsed": false,
     "input": [
      "companies.loc[0,'profit']"
     ],
     "language": "python",
     "metadata": {},
     "outputs": [
      {
       "output_type": "stream",
       "stream": "stdout",
       "text": [
        "Automatic pdb calling has been turned ON\n"
       ]
      }
     ],
     "prompt_number": 5
    },
    {
     "cell_type": "code",
     "collapsed": false,
     "input": [
      "companies.loc[0,'profit']"
     ],
     "language": "python",
     "metadata": {},
     "outputs": [
      {
       "metadata": {},
       "output_type": "pyout",
       "prompt_number": 6,
       "text": [
        "-4"
       ]
      }
     ],
     "prompt_number": 6
    },
    {
     "cell_type": "heading",
     "level": 1,
     "metadata": {},
     "source": [
      "Definitions"
     ]
    },
    {
     "cell_type": "heading",
     "level": 2,
     "metadata": {},
     "source": [
      "The primitives' set"
     ]
    },
    {
     "cell_type": "code",
     "collapsed": false,
     "input": [
      "def div(left, right):\n",
      "    \"\"\"Safe division, if an error is raised it returns 0.\"\"\"\n",
      "    try:\n",
      "        return left / right\n",
      "    except ZeroDivisionError:\n",
      "        return 0\n",
      "    \n",
      "pset = gp.PrimitiveSet(\"MAIN\", 2) #Second param: how many inputs we have\n",
      "pset.addPrimitive(operator.add, 2)\n",
      "pset.addPrimitive(operator.sub, 2)\n",
      "pset.addPrimitive(operator.mul, 2)\n",
      "pset.addPrimitive(div, 2)\n",
      "pset.addPrimitive(operator.neg, 1)\n",
      "pset.addPrimitive(math.cos, 1)\n",
      "pset.addPrimitive(math.sin, 1)\n",
      "#pset.addTerminal('profit')\n",
      "#pset.addTerminal('debt')\n",
      "#pset.addEphemeralConstant(\"rand101\", lambda: random.randint(-1,1))\n",
      "pset.renameArguments(ARG0='profit')\n",
      "pset.renameArguments(ARG1='debt')"
     ],
     "language": "python",
     "metadata": {},
     "outputs": [],
     "prompt_number": 7
    },
    {
     "cell_type": "heading",
     "level": 2,
     "metadata": {},
     "source": [
      "Optimization target"
     ]
    },
    {
     "cell_type": "code",
     "collapsed": false,
     "input": [
      "creator.create(\"FitnessMax\",\n",
      "               base.Fitness,\n",
      "               weights=(+1.0,))"
     ],
     "language": "python",
     "metadata": {},
     "outputs": [],
     "prompt_number": 8
    },
    {
     "cell_type": "heading",
     "level": 2,
     "metadata": {},
     "source": [
      "Genome"
     ]
    },
    {
     "cell_type": "code",
     "collapsed": false,
     "input": [
      "creator.create(\"Individual\",\n",
      "               gp.PrimitiveTree,\n",
      "               fitness=creator.FitnessMax)"
     ],
     "language": "python",
     "metadata": {},
     "outputs": [],
     "prompt_number": 9
    },
    {
     "cell_type": "heading",
     "level": 2,
     "metadata": {},
     "source": [
      "Toolbox"
     ]
    },
    {
     "cell_type": "code",
     "collapsed": false,
     "input": [
      "toolbox = base.Toolbox()\n",
      "toolbox.register(\"expr\",\n",
      "                 gp.genHalfAndHalf,\n",
      "                 pset=pset,\n",
      "                 min_=1,\n",
      "                 max_=2)\n",
      "toolbox.register(\"individual\",\n",
      "                 tools.initIterate,\n",
      "                 creator.Individual,\n",
      "                 toolbox.expr)\n",
      "toolbox.register(\"population\",\n",
      "                 tools.initRepeat,\n",
      "                 list,\n",
      "                 toolbox.individual)\n",
      "toolbox.register(\"compile\",\n",
      "                 gp.compile,\n",
      "                 pset=pset)\n",
      "#toolbox.register(\"map\", pool.map)"
     ],
     "language": "python",
     "metadata": {},
     "outputs": [],
     "prompt_number": 10
    },
    {
     "cell_type": "heading",
     "level": 2,
     "metadata": {},
     "source": [
      "Statistics"
     ]
    },
    {
     "cell_type": "code",
     "collapsed": false,
     "input": [
      "stats_fit = tools.Statistics(key=lambda ind: ind.fitness.values)\n",
      "stats_size = tools.Statistics(key=len)\n",
      "mstats = tools.MultiStatistics(fitness=stats_fit, size=stats_size)\n",
      "mstats.register(\"avg\", numpy.mean)\n",
      "mstats.register(\"std\", numpy.std)\n",
      "mstats.register(\"min\", numpy.min)\n",
      "mstats.register(\"max\", numpy.max)\n"
     ],
     "language": "python",
     "metadata": {},
     "outputs": [],
     "prompt_number": 11
    },
    {
     "cell_type": "heading",
     "level": 2,
     "metadata": {},
     "source": [
      "Evaluation function"
     ]
    },
    {
     "cell_type": "code",
     "collapsed": false,
     "input": [
      "def evalSymbReg(individual, companies=companies):\n",
      "    #Transform the tree expression in a callable\n",
      "    func = toolbox.compile(expr=individual)\n",
      "\n",
      "    #Designate and qualify companies\n",
      "    #First char is the prediciton (F/B) second is the reality (F/B)\n",
      "    results = []\n",
      "    cutoff = 0.5\n",
      "    for company in range(companies.shape[0]):\n",
      "        real = companies.loc[company,'bankrupt']\n",
      "        calculated = func(companies.loc[company,'profit'],\n",
      "                          companies.loc[company,'debt'])\n",
      "        if calculated >= cutoff:\n",
      "            #Designate it as bankrupt,\n",
      "            pred = 1\n",
      "        if calculated < cutoff:\n",
      "            #Designate it as functioning,\n",
      "            pred = 0\n",
      "        if real == 0 and pred == 0:\n",
      "            #Predicted functioning, really functioning\n",
      "            results.append('FF')\n",
      "        elif real == 0:\n",
      "            #Predicted functioning, not functioning, but bankrupt\n",
      "            results.append('FB')\n",
      "        elif real == 1 and pred == 1:\n",
      "            #Predicted bankrupt, really bankrupt\n",
      "            results.append('BB')\n",
      "        else:\n",
      "            #Predicted bankrupt, not bankrupt, but functioning\n",
      "            results.append('BF')\n",
      "\n",
      "    #Scoring and penalties based on designation\n",
      "    score = 0\n",
      "    for company in results:\n",
      "        if company == 'FF':\n",
      "            score += 1\n",
      "        if company == 'FB':\n",
      "            score += 0\n",
      "        if company == 'BB':\n",
      "            score += 1\n",
      "        if company == 'BF':\n",
      "            score += 0\n",
      "    return score,\n"
     ],
     "language": "python",
     "metadata": {},
     "outputs": [],
     "prompt_number": 12
    },
    {
     "cell_type": "heading",
     "level": 2,
     "metadata": {},
     "source": [
      "Genetic Operators and their default arguments"
     ]
    },
    {
     "cell_type": "code",
     "collapsed": false,
     "input": [
      "\n",
      "toolbox.register(\"evaluate\", evalSymbReg)\n",
      "toolbox.register(\"mate\", gp.cxOnePoint)\n",
      "toolbox.register(\"select\", tools.selTournament, tournsize=3)\n",
      "toolbox.register(\"expr_mut\", gp.genFull, min_=0, max_=2)\n",
      "toolbox.register(\"mutate\", gp.mutUniform, expr=toolbox.expr_mut, pset=pset)\n",
      "\n",
      "#Decorators limit overgrowth of the tree\n",
      "toolbox.decorate(\"mate\", gp.staticLimit(len, 90))\n",
      "toolbox.decorate(\"mutate\", gp.staticLimit(len, 90))\n"
     ],
     "language": "python",
     "metadata": {},
     "outputs": [],
     "prompt_number": 13
    },
    {
     "cell_type": "heading",
     "level": 1,
     "metadata": {},
     "source": [
      "Evolution"
     ]
    },
    {
     "cell_type": "heading",
     "level": 2,
     "metadata": {},
     "source": [
      "Core"
     ]
    },
    {
     "cell_type": "code",
     "collapsed": false,
     "input": [
      "def main(evo=None, verbose=False, checkpoint=None):\n",
      "    \"\"\"The evolution itself. Either an evo dictionary is needed or\n",
      "    a checkpoint.\n",
      "    If none given - cannot continue.\n",
      "    If only checkpoint is given - it will load the evo settings\n",
      "    that were active when the evolution was saved.\n",
      "    If only an evo dictionary is given - it will start a new\n",
      "    evolution.\n",
      "    If both evo dictionary and checkpoint is given - it will\n",
      "    continue the evolution from the checkpoint but it will\n",
      "    use the new evo settings supplied as a parameter.\"\"\"\n",
      "    \n",
      "    #Restoring state or starting with new population\n",
      "    if checkpoint is None and evo is None:\n",
      "        raise Exception(\"No evo dictionary and no checkpoint is \\\n",
      "                        received, terminating.\")\n",
      "    elif checkpoint:\n",
      "        checkpoint = pickle.load(open(checkpoint, \"r\"))\n",
      "        if evo is None:\n",
      "            #No new evo settings resuming the old ones\n",
      "            evo = checkpoint[\"evo\"]           \n",
      "            random.setstate(checkpoint[\"rndstate\"])\n",
      "        else:\n",
      "            #New evo settings to use\n",
      "            random.seed(evo.get('SEED'))\n",
      "        population = checkpoint[\"population\"]\n",
      "        generation = checkpoint[\"generation\"]\n",
      "        last_improvement_at = checkpoint[\"last_improvement_at\"]\n",
      "        hall_of_fame = checkpoint[\"hall_of_fame\"]\n",
      "        logbook = checkpoint[\"logbook\"]\n",
      "        fitness_matrix = checkpoint[\"fitness_matrix\"]\n",
      "    else:\n",
      "        #Randomization setup\n",
      "        random.seed(evo.get('SEED'))\n",
      "        #Create population\n",
      "        print \"Creating initial population...\"\n",
      "        population = toolbox.population(n=evo.get('N'))\n",
      "        #Evaluate the created population\n",
      "        companies = read_csv(r'sampleData.csv', sep=';')\n",
      "        print \"Evaluating initial population...\"\n",
      "        fitnesses = list(toolbox.map(toolbox.evaluate, population))\n",
      "        for ind, fit in zip(population, fitnesses):\n",
      "            ind.fitness.values = fit\n",
      "        #Store best individuals in the hall of fame\n",
      "        hall_of_fame = tools.HallOfFame(evo.get('NGEN'))\n",
      "        hall_of_fame.update(population)\n",
      "        #Setup loop values to store location in evolution\n",
      "        generation = 1\n",
      "        last_improvement_at = 0\n",
      "        #Statistics\n",
      "        record = mstats.compile(population)\n",
      "        logbook = tools.Logbook()\n",
      "        logbook.header = (['gen', 'nevals', 'improvement'] +\n",
      "                          (mstats.fields if mstats else []))\n",
      "        improvement = 0\n",
      "        logbook.record(gen=0,\n",
      "                       nevals=len(population),\n",
      "                       improvement=improvement,\n",
      "                       **record)\n",
      "        #if verbose:\n",
      "        #    print logbook.stream\n",
      "        fitness_matrix = FitnessMatrix(evo)\n",
      "        fitness_matrix.save_fitnesses(population)\n",
      "        print fitnesses[0:10]\n",
      "        \n",
      "    #Evaluation duration setup\n",
      "    conditions = evo.get_limitation_rules()\n",
      "    #Print settings\n",
      "    evo.print_evo()\n",
      "    \n",
      "    #Evolution\n",
      "    start = time.time()\n",
      "    #Evolve as long as the conditions are True\n",
      "    if verbose:\n",
      "        print logbook.stream\n",
      "    while conditions[0](generation, last_improvement_at):\n",
      "        #Select the next generation individuals\n",
      "        offspring = toolbox.select(population, len(population))\n",
      "        #Apply crossover, mutation\n",
      "        offspring = algorithms.varAnd(offspring,\n",
      "                                      toolbox,\n",
      "                                      evo.get('CXPB'),\n",
      "                                      evo.get('MUTPB'))\n",
      "        #Evaluation of individuals with invalid fitness\n",
      "        invalid_ind = [\n",
      "            ind for ind in offspring if not ind.fitness.valid]\n",
      "        fitnesses = toolbox.map(toolbox.evaluate, invalid_ind)\n",
      "        for ind, fit in zip(invalid_ind, fitnesses):\n",
      "            ind.fitness.values = fit\n",
      "        #Update hall of fame\n",
      "        hall_of_fame.update(offspring)\n",
      "        #Replace old population\n",
      "        population[:] = offspring\n",
      "        #Statistics with improvement info\n",
      "        record = mstats.compile(population)\n",
      "        current = record['fitness']['max']\n",
      "        previous = logbook.chapters['fitness'].select('max')[generation-1]\n",
      "        improvement = 1 - (current / previous)\n",
      "        if improvement > 0:\n",
      "            last_improvement_at = generation\n",
      "        logbook.record(gen=generation,\n",
      "                       nevals=len(invalid_ind),\n",
      "                       improvement=improvement,\n",
      "                       **record)\n",
      "        if verbose:\n",
      "            print logbook.stream\n",
      "        fitness_matrix.save_fitnesses(population)\n",
      "        #Looping, generation number has to be increased before\n",
      "        #storing it in checkpoint to be all right\n",
      "        generation += 1\n",
      "        #Checkpointing\n",
      "        if (evo.get('FREQ_OF_CHECKPOINTS') != 0 and\n",
      "            generation % evo.get('FREQ_OF_CHECKPOINTS') == 0):\n",
      "            checkpoint = dict(rndstate = random.getstate(),\n",
      "                            population = population,\n",
      "                            generation = generation,\n",
      "                            last_improvement_at = last_improvement_at,\n",
      "                            hall_of_fame = hall_of_fame,\n",
      "                            logbook = logbook,\n",
      "                            evo = evo,\n",
      "                            fitness_matrix = fitness_matrix)\n",
      "            filename = (\"checkpoints\" + os.sep\n",
      "                + \"evo_ngen%04d_n%03d_g%04d_%s.pkl\" % (evo.get('NGEN'),\n",
      "                                                    evo.get('N'),\n",
      "                                                    generation,\n",
      "                                                    evo.get_hash(8)))\n",
      "            pickle.dump(checkpoint, open(filename, \"w\"), -1)\n",
      "    \n",
      "    #Info on the evolution\n",
      "    end = time.time()\n",
      "    print(\"Evolution execution time: %3.3f\" % (end-start))\n",
      "    print(\"Best individual is %s, %s\" % (hall_of_fame[0],\n",
      "                                     hall_of_fame[0].fitness.values))   \n",
      "    return population, logbook, hall_of_fame, fitness_matrix\n"
     ],
     "language": "python",
     "metadata": {},
     "outputs": [],
     "prompt_number": 17
    },
    {
     "cell_type": "heading",
     "level": 2,
     "metadata": {},
     "source": [
      "Run with settings"
     ]
    },
    {
     "cell_type": "code",
     "collapsed": false,
     "input": [
      "#Settings of a specific run\n",
      "#seed = random.randint(0, sys.maxint)\n",
      "seed = 64\n",
      "evo = Evo({'CXPB': 0.3,\n",
      "            'MUTPB': 0.1,\n",
      "            'NGEN': 50,\n",
      "            'N': 400,\n",
      "            'FREQ_OF_CHECKPOINTS': 10,\n",
      "            'PATIENCE': 10,\n",
      "            'SEED': seed})\n",
      "checkpoint = 'checkpoints/evo_ngen0050_n400_g0030_281aa092.pkl'\n",
      "if __name__ == \"__main__\":\n",
      "    population, logbook, hall_of_fame, original_matrix = main(\n",
      "                                                       evo=evo,\n",
      "                                                       verbose=True,\n",
      "                                                       checkpoint=None)\n"
     ],
     "language": "python",
     "metadata": {},
     "outputs": [
      {
       "output_type": "stream",
       "stream": "stdout",
       "text": [
        "Evaluating initial population...\n",
        "[(43,), (55,), (16,), (86,), (74,), (14,), (86,), (76,), (86,), (84,)]"
       ]
      },
      {
       "output_type": "stream",
       "stream": "stdout",
       "text": [
        "\n",
        "Evolution settings (281aa092):\n",
        " CXPB: \t\t0.3\t(crossover probability)\n",
        " MUTPB: \t0.1\t(mutation probability)\n",
        " NGEN: \t\t50\t(number of generations to evolve)\n",
        " N: \t\t400\t(current generation)\n",
        " FREQ_OF_CHECKPOINTS: \t10\t(save after this many generations)\n",
        " PATIENCE: \t\t\t\t10\t(abort after this many identical best fitnesses)\n",
        " SEED: \t\t\t\t\t64\t(randomization seed)\n",
        "Mode: Generation and improvement limitations are both active.\n",
        "\n",
        "   \t      \t           \t            fitness            \t              size             \n",
        "   \t      \t           \t-------------------------------\t-------------------------------\n",
        "gen\tnevals\timprovement\tavg   \tmax\tmin\tstd    \tavg   \tmax\tmin\tstd    \n",
        "0  \t400   \t0          \t50.165\t98 \t6  \t32.1768\t3.6625\t7  \t2  \t1.52269\n",
        "1  \t143   \t0          \t72.2625\t98 \t6  \t22.1709\t4.0275\t13 \t1  \t1.85519"
       ]
      },
      {
       "output_type": "stream",
       "stream": "stdout",
       "text": [
        "\n",
        "2  \t128   \t0          \t82.5975\t98 \t6  \t16.4127\t4.265 \t12 \t1  \t1.85736"
       ]
      },
      {
       "output_type": "stream",
       "stream": "stdout",
       "text": [
        "\n",
        "3  \t169   \t0          \t82.705 \t98 \t6  \t19.335 \t4.39  \t12 \t1  \t1.79942"
       ]
      },
      {
       "output_type": "stream",
       "stream": "stdout",
       "text": [
        "\n",
        "4  \t132   \t0          \t86.095 \t98 \t6  \t18.288 \t4.3875\t13 \t1  \t1.68889"
       ]
      },
      {
       "output_type": "stream",
       "stream": "stdout",
       "text": [
        "\n",
        "5  \t131   \t0          \t90.1075\t98 \t12 \t13.4841\t4.01  \t11 \t1  \t1.49328"
       ]
      },
      {
       "output_type": "stream",
       "stream": "stdout",
       "text": [
        "\n",
        "6  \t143   \t0          \t90.8675\t98 \t12 \t15.0158\t3.7225\t10 \t1  \t1.35849"
       ]
      },
      {
       "output_type": "stream",
       "stream": "stdout",
       "text": [
        "\n",
        "7  \t144   \t0          \t90.5125\t98 \t12 \t16.8639\t3.3225\t8  \t1  \t1.09476"
       ]
      },
      {
       "output_type": "stream",
       "stream": "stdout",
       "text": [
        "\n",
        "8  \t152   \t0          \t92.7575\t98 \t12 \t13.4096\t3.1825\t9  \t1  \t0.9188 "
       ]
      },
      {
       "output_type": "stream",
       "stream": "stdout",
       "text": [
        "\n",
        "9  \t139   \t0          \t92.945 \t98 \t12 \t14.8397\t3.145 \t9  \t1  \t0.84497"
       ]
      },
      {
       "output_type": "stream",
       "stream": "stdout",
       "text": [
        "\n",
        "10 \t156   \t0          \t93.3975\t98 \t16 \t10.94  \t3.1675\t9  \t1  \t0.812061"
       ]
      },
      {
       "output_type": "stream",
       "stream": "stdout",
       "text": [
        "\n",
        "Reached improvement limitation of 10.\n",
        "Evolution execution time: 109.233\n",
        "Best individual is neg(cos(neg(profit))), (98.0,)\n"
       ]
      }
     ],
     "prompt_number": 18
    },
    {
     "cell_type": "heading",
     "level": 1,
     "metadata": {},
     "source": [
      "Plots"
     ]
    },
    {
     "cell_type": "heading",
     "level": 2,
     "metadata": {},
     "source": [
      "Plotting generation performance"
     ]
    },
    {
     "cell_type": "code",
     "collapsed": false,
     "input": [
      "generations = np.array(logbook.select(\"gen\"))\n",
      "fitness_minimums = np.array(logbook.chapters['fitness'].select(\"min\"))\n",
      "fitness_maximums = np.array(logbook.chapters['fitness'].select(\"max\"))\n",
      "fitness_averages = np.array(logbook.chapters['fitness'].select(\"avg\"))\n",
      "fitness_yerr_min = fitness_averages-fitness_minimums\n",
      "fitness_yerr_max = fitness_maximums-fitness_averages\n",
      "\n",
      "plt.plot(generations, fitness_minimums, color=\"blue\", linewidth=1.2,\n",
      "     label=\"Raw minimum\")\n",
      "plt.plot(generations, fitness_maximums, color = \"red\", linewidth=1.2,\n",
      "     label=\"Raw maximum\")\n",
      "#plt.fill_between(generations, minimums, maximums, color=\"green\",\n",
      "#             alpha=0.1)\n",
      "plt.errorbar(generations, fitness_averages, \n",
      "             [fitness_yerr_min, fitness_yerr_max],\n",
      "         color=\"green\", alpha=0.5, linewidth=1.2,\n",
      "         label=\"Average fitness\")\n",
      "\n",
      "plt.xlim(0, len(generations)-1)\n",
      "plt.ylim(min(fitness_minimums)-5, max(fitness_maximums)+5)\n",
      "plt.legend(loc='upper right')\n",
      "plt.xlabel('Generations')\n",
      "plt.ylabel('Score')\n",
      "plt.title('Raw score evolution over time');\n"
     ],
     "language": "python",
     "metadata": {},
     "outputs": [
      {
       "metadata": {},
       "output_type": "display_data",
       "png": "[encoded data removed]",
       "text": [
        "<matplotlib.figure.Figure at 0x5038fd0>"
       ]
      }
     ],
     "prompt_number": 19
    },
    {
     "cell_type": "heading",
     "level": 2,
     "metadata": {},
     "source": [
      "Set here which individual to plot"
     ]
    },
    {
     "cell_type": "code",
     "collapsed": false,
     "input": [
      "individual = hall_of_fame[0]"
     ],
     "language": "python",
     "metadata": {},
     "outputs": [],
     "prompt_number": 20
    },
    {
     "cell_type": "heading",
     "level": 2,
     "metadata": {},
     "source": [
      "Plotting the GP tree"
     ]
    },
    {
     "cell_type": "code",
     "collapsed": false,
     "input": [
      "nodes, edges, labels = gp.graph(individual)\n",
      "\n",
      "g = pgv.AGraph()\n",
      "g.add_nodes_from(nodes)\n",
      "g.add_edges_from(edges)\n",
      "g.layout(prog=\"dot\")\n",
      "\n",
      "for i in nodes:\n",
      "    n = g.get_node(i)\n",
      "    n.attr[\"label\"] = labels[i]\n",
      "\n",
      "g.draw('tree.png')\n",
      "Image('tree.png')"
     ],
     "language": "python",
     "metadata": {},
     "outputs": [
      {
       "metadata": {},
       "output_type": "pyout",
       "png": "[encoded data removed]",
       "prompt_number": 21,
       "text": [
        "<IPython.core.display.Image at 0x5041c10>"
       ]
      }
     ],
     "prompt_number": 21
    },
    {
     "cell_type": "heading",
     "level": 2,
     "metadata": {},
     "source": [
      "The simplified equation"
     ]
    },
    {
     "cell_type": "code",
     "collapsed": false,
     "input": [
      "profit = Symbol('profit')\n",
      "operator_dict = {\n",
      "    \"add\": \"+\",\n",
      "    \"sub\": \"-\",\n",
      "    \"mul\": \"*\",\n",
      "    \"div\": \"/\",\n",
      "    \"neg\": \"-\",\n",
      "    \"sin\": \"sin\",\n",
      "    \"cos\": \"cos\",\n",
      "}\n",
      "x = Symbol('x')\n",
      "toparse = 'neg(cos(neg(x)))'\n",
      "parser = EquationParser(variables=('profit', 'debt', 'x'),\n",
      "                        operators=operator_dict)\n",
      "equation = parser.parse_equation(str(individual))\n",
      "print equation\n",
      "equation = parser.parse_equation(toparse)\n",
      "print equation\n"
     ],
     "language": "python",
     "metadata": {},
     "outputs": [
      {
       "output_type": "stream",
       "stream": "stdout",
       "text": [
        "(-cos((-profit)))\n",
        "(-cos((-x)))\n"
       ]
      }
     ],
     "prompt_number": 36
    },
    {
     "cell_type": "code",
     "collapsed": false,
     "input": [
      "sympy_equation = parse_expr(equation)"
     ],
     "language": "python",
     "metadata": {},
     "outputs": [],
     "prompt_number": 37
    },
    {
     "cell_type": "code",
     "collapsed": false,
     "input": [
      "init_printing(use_unicode=True)\n",
      "cancel(sympy_equation)"
     ],
     "language": "python",
     "metadata": {},
     "outputs": [
      {
       "latex": [
        "$$- \\cos{\\left (x \\right )}$$"
       ],
       "metadata": {},
       "output_type": "pyout",
       "png": "[encoded data removed]",
       "prompt_number": 38,
       "text": [
        "-cos(x)"
       ]
      }
     ],
     "prompt_number": 38
    },
    {
     "cell_type": "code",
     "collapsed": false,
     "input": [
      "init_printing(pretty_print=False)"
     ],
     "language": "python",
     "metadata": {},
     "outputs": [],
     "prompt_number": 39
    },
    {
     "cell_type": "heading",
     "level": 2,
     "metadata": {},
     "source": [
      "Visualizing results"
     ]
    },
    {
     "cell_type": "code",
     "collapsed": false,
     "input": [
      "estimated_equation = cancel(sympy_equation)\n",
      "from_to = np.linspace(-5, 5, 100, endpoint=True)\n",
      "#original_equation_values = map(original_equation, from_to)\n",
      "estimated_equation_lambdified = lambdify(x, estimated_equation, \"numpy\")\n",
      "estimated_equation_values = estimated_equation_lambdified(from_to)\n",
      "\n",
      "plt.plot(from_to, original_equation_values, color=\"green\", linewidth=1.2,\n",
      "     label=\"Original equation\")\n",
      "plt.plot(from_to, estimated_equation_values, color=\"purple\", linewidth=1.2,\n",
      "     label=\"Estimated equation\")\n",
      "#fill_between(generations, minimums, maximums, color=\"green\",\n",
      "#             alpha=0.1)\n",
      "plt.legend(loc='upper center')\n",
      "plt.title('Estimated vs. original equation');"
     ],
     "language": "python",
     "metadata": {},
     "outputs": [
      {
       "ename": "NameError",
       "evalue": "name 'original_equation_values' is not defined",
       "output_type": "pyerr",
       "traceback": [
        "\u001b[1;31m---------------------------------------------------------------------------\u001b[0m\n\u001b[1;31mNameError\u001b[0m                                 Traceback (most recent call last)",
        "\u001b[1;32m<ipython-input-40-718b29429a61>\u001b[0m in \u001b[0;36m<module>\u001b[1;34m()\u001b[0m\n\u001b[0;32m      5\u001b[0m \u001b[0mestimated_equation_values\u001b[0m \u001b[1;33m=\u001b[0m \u001b[0mestimated_equation_lambdified\u001b[0m\u001b[1;33m(\u001b[0m\u001b[0mfrom_to\u001b[0m\u001b[1;33m)\u001b[0m\u001b[1;33m\u001b[0m\u001b[0m\n\u001b[0;32m      6\u001b[0m \u001b[1;33m\u001b[0m\u001b[0m\n\u001b[1;32m----> 7\u001b[1;33m plt.plot(from_to, original_equation_values, color=\"green\", linewidth=1.2,\n\u001b[0m\u001b[0;32m      8\u001b[0m      label=\"Original equation\")\n\u001b[0;32m      9\u001b[0m plt.plot(from_to, estimated_equation_values, color=\"purple\", linewidth=1.2,\n",
        "\u001b[1;31mNameError\u001b[0m: name 'original_equation_values' is not defined"
       ]
      }
     ],
     "prompt_number": 40
    },
    {
     "cell_type": "heading",
     "level": 2,
     "metadata": {},
     "source": [
      "Heatmap"
     ]
    },
    {
     "cell_type": "code",
     "collapsed": false,
     "input": [
      "fitness_matrix = original_matrix.get_copy()\n",
      "print fitness_matrix.get_generation(0)[0:5]\n",
      "print fitness_matrix.get_generation(0)[evo.get('N')-5:evo.get('N')]"
     ],
     "language": "python",
     "metadata": {},
     "outputs": [
      {
       "output_type": "stream",
       "stream": "stdout",
       "text": [
        "[ 43.  55.  16.  86.  74.]\n",
        "[ 16.  12.  86.  72.  14.]\n"
       ]
      }
     ],
     "prompt_number": 45
    },
    {
     "cell_type": "code",
     "collapsed": false,
     "input": [
      "fitness_matrix.order_fitnesses()\n",
      "print fitness_matrix.get_generation(0)[0:5]\n",
      "print fitness_matrix.get_generation(0)[evo.get('N')-5:evo.get('N')]"
     ],
     "language": "python",
     "metadata": {},
     "outputs": [
      {
       "output_type": "stream",
       "stream": "stdout",
       "text": [
        "[ 6.  6.  6.  6.  6.]\n",
        "[ 94.  96.  98.  98.  98.]\n"
       ]
      }
     ],
     "prompt_number": 46
    },
    {
     "cell_type": "code",
     "collapsed": false,
     "input": [
      "fitness_matrix.truncate_fitnesses(by_max=0.9)\n",
      "print fitness_matrix.get_generation(0)[0:5]\n",
      "print fitness_matrix.get_generation(0)[evo.get('N')-5:evo.get('N')]"
     ],
     "language": "python",
     "metadata": {},
     "outputs": [
      {
       "output_type": "stream",
       "stream": "stdout",
       "text": [
        "[ 0.9  0.9  0.9  0.9  0.9]\n",
        "[ 0.9  0.9  0.9  0.9  0.9]\n"
       ]
      }
     ],
     "prompt_number": 43
    },
    {
     "cell_type": "code",
     "collapsed": false,
     "input": [
      "#Obtain the number of happened generations\n",
      "generations = len(np.array(logbook.select(\"gen\")))\n",
      "plt.imshow(fitness_matrix.get_inner_matrix()[0:generations].transpose(),\n",
      "       aspect='auto',\n",
      "       cmap=cm.jet,\n",
      "       origin='lower',\n",
      "       interpolation='gaussian')\n",
      "plt.title('Heatmap of fitness')\n",
      "plt.xlabel('Generations')\n",
      "plt.ylabel('Population')\n",
      "plt.colorbar();"
     ],
     "language": "python",
     "metadata": {},
     "outputs": [
      {
       "metadata": {},
       "output_type": "display_data",
       "png": "[encoded data removed]",
       "text": [
        "<matplotlib.figure.Figure at 0x51a1910>"
       ]
      }
     ],
     "prompt_number": 59
    },
    {
     "cell_type": "markdown",
     "metadata": {},
     "source": [
      "*Todo*:\n",
      "- penalty\n",
      "- randomize\n",
      "- restructure code\n",
      "- test on data\n",
      "- more graphs?"
     ]
    },
    {
     "cell_type": "code",
     "collapsed": false,
     "input": [],
     "language": "python",
     "metadata": {},
     "outputs": [],
     "prompt_number": 23
    }
   ],
   "metadata": {}
  }
 ]
}